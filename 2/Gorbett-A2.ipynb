{
 "cells": [
  {
   "cell_type": "markdown",
   "metadata": {},
   "source": [
    "# Assignment 2: Iterative-Deepening Search"
   ]
  },
  {
   "cell_type": "markdown",
   "metadata": {},
   "source": [
    "Matt Gorbett"
   ]
  },
  {
   "cell_type": "markdown",
   "metadata": {},
   "source": [
    "## Overview"
   ]
  },
  {
   "cell_type": "markdown",
   "metadata": {},
   "source": [
    "Iterative Deepening Search is a search algorithm which uses a depth first search on increasingly large depth-limits until a search result is found.  In this way it has qualities of both depth first and breadth first searches.  The algorithm iterates through depths, and in each level of depth-limit it does a depth first search to attempt to find the correct value.  If it is not found, it moves to a higher depth-limit in the tree until either a value is found or the algorithm has reached its maximum search space.  \n",
    "\n",
    "This was a fun and tricky project with interesting methods to write.  My laptop broke on me on Monday which made it extra spicy to complete on time.  I ended up converting from Ubuntu to Mac for this assignment, so far I am pleased with my purchase and the OS conversion has been pretty seamless.  Even though this was a little tricky at times, I feel like I learned the algorithm pretty well and began to get a grasp on some deeper parts of these ideas. \n",
    "\n",
    "\n",
    "### Contents:\n",
    "-  DepthLimitedSearch, IterativeDeepeningSearch Functions\n",
    "-  8 Puzzle\n",
    "-  Testing Code\n",
    "-  A2Grader Test Results\n",
    "-  15 Puzzle\n",
    "-  Hanoi Towers "
   ]
  },
  {
   "cell_type": "markdown",
   "metadata": {},
   "source": [
    "# DepthLimitedSearch, IterativeDeepeningSearch Functions"
   ]
  },
  {
   "cell_type": "markdown",
   "metadata": {},
   "source": [
    "### Functions: \n",
    "#### iterativeDeepeningSearch(startState, goalState, actionsF, takeActionF, maxDepth)\n",
    "Main function used to iterate over hte depth limited search up until a maxDepth limit specified in input.  \n",
    "#### depthLimitedSearch(startState, goalState, actionsF, takeActionF, depthLimit)\n",
    "Main function to do a depth search up until a limit (depthLimit)"
   ]
  },
  {
   "cell_type": "code",
   "execution_count": 1802,
   "metadata": {},
   "outputs": [],
   "source": [
    "import numpy as np\n",
    "import copy\n",
    "import math\n",
    "\n",
    "def depthLimitedSearch(state, goalState, actionsF, takeActionF, depthLimit):\n",
    "    if(state == goalState):\n",
    "        return []\n",
    "    if(depthLimit==0):\n",
    "        return 'cutoff'\n",
    "    cutoffOccurred = False\n",
    "    for action in actionsF(state):\n",
    "        childState = takeActionF(state, action)\n",
    "        #if(childState):\n",
    "        result = depthLimitedSearch(childState, goalState, actionsF, takeActionF, depthLimit-1)\n",
    "        if(result=='cutoff'):\n",
    "            cutoffOccurred = True\n",
    "        elif(result!='failure'):\n",
    "            result.insert(0, childState)\n",
    "            return result\n",
    "    if(cutoffOccurred):\n",
    "        return 'cutoff'\n",
    "    else:\n",
    "        return 'failure'\n",
    "\n",
    "\n",
    "\n",
    "def iterativeDeepeningSearch(startState, goalState, actionsF, takeActionF, maxDepth):\n",
    "    for depth in range(maxDepth):\n",
    "        result = depthLimitedSearch(startState, goalState, actionsF, takeActionF, depth)\n",
    "        if(result=='failure'):\n",
    "            return 'failure'\n",
    "        if(result!='cutoff'):\n",
    "            result.insert(0, startState)\n",
    "            return result\n",
    "        \n",
    "    return 'cutoff'"
   ]
  },
  {
   "cell_type": "markdown",
   "metadata": {},
   "source": [
    "# 8 Puzzle\n",
    "\n",
    "### Functions\n",
    "#### findBlank_8p(state) \n",
    "Finds the 0 in the 8 puzzle and returns the matrix positions\n",
    "#### actionsF_8p(state) \n",
    "Returns the actions-left, right, up, down.  \n",
    "#### takeActionF_8p(state, action)\n",
    "This method executes an action that gets input into it.  For an 8 puzzle, the left and right actions switch\n",
    "the before and after values .\n",
    "#### findBlank(startState):find blank in a list rather than the matrix row column value\n",
    "I used this to find the index position of all lists used in this assignment.  \n",
    "#### printPath_8p(startState, goalState, path), print_8p()\n",
    "I am not proud of my two print functions, however I was running out of time on this assignment.  \n",
    "They do the trick, however ugly they are.  "
   ]
  },
  {
   "cell_type": "code",
   "execution_count": 1803,
   "metadata": {},
   "outputs": [],
   "source": [
    "\n",
    "        \n",
    "def findBlank_8p(startState):\n",
    "\trow=math.floor(startState.index(0)/3) #equal to the index of 0 divided by 3 and rounded down\n",
    "\tcolumn=startState.index(0)%3 #the column is convienently equal to the remainder when divided by 3\n",
    "\treturn (row,column)\n",
    "\n",
    "def findBlank(startState):\n",
    "\treturn startState.index(0) #to get the index of the 0 in a normal (non NumPy) list\n",
    "\n",
    "def actionsF_8p(startState):\n",
    "\tblank=findBlank(startState)\n",
    "\tif(blank==0):\n",
    "\t\treturn ['down','right'] #actions available when 0 is at first square\n",
    "\telif(blank==1):\n",
    "\t\treturn ['left','down','right']\n",
    "\telif(blank==2):\n",
    "\t\treturn ['left','down']\n",
    "\telif(blank==3):\n",
    "\t\treturn ['up','down', 'right']\n",
    "\telif(blank==4):\n",
    "\t\treturn ['up','right','left','down']\n",
    "\telif(blank==5):\n",
    "\t\treturn ['left','down','up']\n",
    "\telif(blank==6):\n",
    "\t\treturn ['up','right']\n",
    "\telif(blank==7):\n",
    "\t\treturn ['left','right','up']\n",
    "\telif(blank==8):\n",
    "\t\treturn ['left','up']\n",
    "\n",
    "\n",
    "def takeActionF_8p(startState, action):\n",
    "\tcp=copy.copy(startState) #create copy of startState to alter\n",
    "\tblank=findBlank(cp)\n",
    "\tif(action=='down'):\n",
    "\t\tcp[blank], cp[blank+3] = cp[blank+3], cp[blank]\n",
    "\telif(action=='up'):\n",
    "\t\tcp[blank], cp[blank-3] = cp[blank-3], cp[blank]\n",
    "\telif(action=='left'):\n",
    "\t\tcp[blank], cp[blank-1] = cp[blank-1], cp[blank]\n",
    "\telif(action=='right'):\n",
    "\t\tcp[blank], cp[blank+1] = cp[blank+1], cp[blank]\n",
    "\treturn cp\n",
    "\n",
    "\n",
    "\n",
    "def printState_8p(startState):\n",
    "\tcp=copy.copy(startState)\n",
    "\tzero=cp.index(0)#find zero value\n",
    "\tcp[zero]=\"-\"#replace zero value with -\n",
    "\tprint(str(cp[0])+' '+str(cp[1])+' '+str(cp[2]))#print the array without brackets and parentheses.  \n",
    "\tprint(str(cp[3])+' '+str(cp[4])+' '+str(cp[5]))    \n",
    "\tprint(str(cp[6])+' '+str(cp[7])+' '+str(cp[8]))\n",
    "        \n",
    "def printPath_8p(startState, goalState, path):\n",
    "\tprint(\"Path from\") #print full startState \n",
    "\tprint(str(startState[0])+' '+str(startState[1])+' '+str(startState[2]))\n",
    "\tprint(str(startState[3])+' '+str(startState[4])+' '+str(startState[5]))    \n",
    "\tprint(str(startState[6])+' '+str(startState[7])+' '+str(startState[8]))\n",
    "\tprint(\"to\") #print goalState\n",
    "\tprint(str(goalState[0])+' '+str(goalState[1])+' '+str(goalState[2]))\n",
    "\tprint(str(goalState[3])+' '+str(goalState[4])+' '+str(goalState[5]))    \n",
    "\tprint(str(goalState[6])+' '+str(goalState[7])+' '+str(goalState[8]))\n",
    "\tprint(\"is \"+str(len(path))+ \" nodes long:\") #count steps to get from start to goal\n",
    "\tprinter='' #for spacing steps\n",
    "\tfor p in range(0,len(path)):\n",
    "\t\tpath[p][path[p].index(0)]='-'#change 0 to - for each array\n",
    "\t\tprint(printer+str(path[p][0])+' '+str(path[p][1])+' '+str(path[p][2]))\n",
    "\t\tprint(printer+str(path[p][3])+' '+str(path[p][4])+' '+str(path[p][5]))    \n",
    "\t\tprint(printer+str(path[p][6])+' '+str(path[p][7])+' '+str(path[p][8]))\n",
    "\t\tprint(\"\")#print blank line\n",
    "\t\tprinter += ' ' #add space to printer variable each iteration to add stepping procedure onto print method\n",
    "\n"
   ]
  },
  {
   "cell_type": "markdown",
   "metadata": {},
   "source": [
    "# Testing code\n",
    "#### This code is from the original notebook for this homework.  These came in handy for testing purposes and I will leave these here to show results.  "
   ]
  },
  {
   "cell_type": "code",
   "execution_count": 1804,
   "metadata": {},
   "outputs": [],
   "source": [
    "startState = [1, 0, 3, 4, 2, 5, 6, 7, 8]"
   ]
  },
  {
   "cell_type": "code",
   "execution_count": 1805,
   "metadata": {},
   "outputs": [
    {
     "name": "stdout",
     "output_type": "stream",
     "text": [
      "1 - 3\n",
      "4 2 5\n",
      "6 7 8\n"
     ]
    }
   ],
   "source": [
    "printState_8p(startState)  # not a required function for this assignment, but it helps when implementing printPath_8p"
   ]
  },
  {
   "cell_type": "code",
   "execution_count": 1806,
   "metadata": {},
   "outputs": [
    {
     "data": {
      "text/plain": [
       "(0, 1)"
      ]
     },
     "execution_count": 1806,
     "metadata": {},
     "output_type": "execute_result"
    }
   ],
   "source": [
    "findBlank_8p(startState)"
   ]
  },
  {
   "cell_type": "code",
   "execution_count": 1807,
   "metadata": {},
   "outputs": [
    {
     "data": {
      "text/plain": [
       "['left', 'down', 'right']"
      ]
     },
     "execution_count": 1807,
     "metadata": {},
     "output_type": "execute_result"
    }
   ],
   "source": [
    "actionsF_8p(startState)"
   ]
  },
  {
   "cell_type": "code",
   "execution_count": 1808,
   "metadata": {},
   "outputs": [
    {
     "data": {
      "text/plain": [
       "[1, 2, 3, 4, 0, 5, 6, 7, 8]"
      ]
     },
     "execution_count": 1808,
     "metadata": {},
     "output_type": "execute_result"
    }
   ],
   "source": [
    "takeActionF_8p(startState, 'down')"
   ]
  },
  {
   "cell_type": "code",
   "execution_count": 1809,
   "metadata": {},
   "outputs": [
    {
     "name": "stdout",
     "output_type": "stream",
     "text": [
      "1 2 3\n",
      "4 - 5\n",
      "6 7 8\n"
     ]
    }
   ],
   "source": [
    "printState_8p(takeActionF_8p(startState, 'down'))\n"
   ]
  },
  {
   "cell_type": "code",
   "execution_count": 1810,
   "metadata": {},
   "outputs": [],
   "source": [
    "goalState = takeActionF_8p(startState, 'down')"
   ]
  },
  {
   "cell_type": "code",
   "execution_count": 1811,
   "metadata": {},
   "outputs": [],
   "source": [
    "newState = takeActionF_8p(startState, 'down')"
   ]
  },
  {
   "cell_type": "code",
   "execution_count": 1812,
   "metadata": {},
   "outputs": [
    {
     "data": {
      "text/plain": [
       "True"
      ]
     },
     "execution_count": 1812,
     "metadata": {},
     "output_type": "execute_result"
    }
   ],
   "source": [
    "newState == goalState"
   ]
  },
  {
   "cell_type": "code",
   "execution_count": 1813,
   "metadata": {},
   "outputs": [
    {
     "data": {
      "text/plain": [
       "[1, 0, 3, 4, 2, 5, 6, 7, 8]"
      ]
     },
     "execution_count": 1813,
     "metadata": {},
     "output_type": "execute_result"
    }
   ],
   "source": [
    "startState"
   ]
  },
  {
   "cell_type": "code",
   "execution_count": 1814,
   "metadata": {
    "scrolled": true
   },
   "outputs": [
    {
     "data": {
      "text/plain": [
       "[[0, 1, 3, 4, 2, 5, 6, 7, 8],\n",
       " [1, 0, 3, 4, 2, 5, 6, 7, 8],\n",
       " [1, 2, 3, 4, 0, 5, 6, 7, 8]]"
      ]
     },
     "execution_count": 1814,
     "metadata": {},
     "output_type": "execute_result"
    }
   ],
   "source": [
    "path = depthLimitedSearch(startState, goalState, actionsF_8p, takeActionF_8p, 3)\n",
    "path"
   ]
  },
  {
   "cell_type": "markdown",
   "metadata": {},
   "source": [
    "Notice that `depthLimitedSearch` result is missing the start state.  This is inserted by `iterativeDeepeningSearch`.\n",
    "\n",
    "But, when we try `iterativeDeepeningSearch` to do the same search, it finds a shorter path!"
   ]
  },
  {
   "cell_type": "code",
   "execution_count": 1815,
   "metadata": {
    "scrolled": true
   },
   "outputs": [
    {
     "data": {
      "text/plain": [
       "[[1, 0, 3, 4, 2, 5, 6, 7, 8], [1, 2, 3, 4, 0, 5, 6, 7, 8]]"
      ]
     },
     "execution_count": 1815,
     "metadata": {},
     "output_type": "execute_result"
    }
   ],
   "source": [
    "path = iterativeDeepeningSearch(startState, goalState, actionsF_8p, takeActionF_8p, 3)\n",
    "path"
   ]
  },
  {
   "cell_type": "markdown",
   "metadata": {},
   "source": [
    "Also notice that the successor states are lists, not tuples."
   ]
  },
  {
   "cell_type": "code",
   "execution_count": 1816,
   "metadata": {},
   "outputs": [
    {
     "data": {
      "text/plain": [
       "'cutoff'"
      ]
     },
     "execution_count": 1816,
     "metadata": {},
     "output_type": "execute_result"
    }
   ],
   "source": [
    "startState = [4, 7, 2, 1, 6, 5, 0, 3, 8]\n",
    "path = iterativeDeepeningSearch(startState, goalState, actionsF_8p, takeActionF_8p, 3)\n",
    "path"
   ]
  },
  {
   "cell_type": "code",
   "execution_count": 1817,
   "metadata": {},
   "outputs": [
    {
     "data": {
      "text/plain": [
       "'cutoff'"
      ]
     },
     "execution_count": 1817,
     "metadata": {},
     "output_type": "execute_result"
    }
   ],
   "source": [
    "startState = [4, 7, 2, 1, 6, 5, 0, 3, 8]\n",
    "path = iterativeDeepeningSearch(startState, goalState, actionsF_8p, takeActionF_8p, 5)\n",
    "path"
   ]
  },
  {
   "cell_type": "markdown",
   "metadata": {},
   "source": [
    "Humm...maybe we can't reach the goal state from this state.  We need a way to randomly generate a valid start state."
   ]
  },
  {
   "cell_type": "code",
   "execution_count": 1818,
   "metadata": {},
   "outputs": [],
   "source": [
    "import random"
   ]
  },
  {
   "cell_type": "code",
   "execution_count": 1819,
   "metadata": {},
   "outputs": [
    {
     "data": {
      "text/plain": [
       "'right'"
      ]
     },
     "execution_count": 1819,
     "metadata": {},
     "output_type": "execute_result"
    }
   ],
   "source": [
    "random.choice(['left', 'right'])"
   ]
  },
  {
   "cell_type": "code",
   "execution_count": 1820,
   "metadata": {},
   "outputs": [],
   "source": [
    "def randomStartState(goalState, actionsF, takeActionF, nSteps):\n",
    "    state = goalState\n",
    "    for i in range(nSteps):\n",
    "        state = takeActionF(state, random.choice(actionsF(state)))\n",
    "    return state"
   ]
  },
  {
   "cell_type": "code",
   "execution_count": 1821,
   "metadata": {},
   "outputs": [
    {
     "data": {
      "text/plain": [
       "[1, 2, 3, 6, 4, 5, 0, 7, 8]"
      ]
     },
     "execution_count": 1821,
     "metadata": {},
     "output_type": "execute_result"
    }
   ],
   "source": [
    "goalState = [1, 2, 3, 4, 0, 5, 6, 7, 8]\n",
    "randomStartState(goalState, actionsF_8p, takeActionF_8p, 10)"
   ]
  },
  {
   "cell_type": "code",
   "execution_count": 1822,
   "metadata": {},
   "outputs": [
    {
     "data": {
      "text/plain": [
       "[4, 3, 0, 6, 2, 1, 7, 5, 8]"
      ]
     },
     "execution_count": 1822,
     "metadata": {},
     "output_type": "execute_result"
    }
   ],
   "source": [
    "startState = randomStartState(goalState, actionsF_8p, takeActionF_8p, 50)\n",
    "startState"
   ]
  },
  {
   "cell_type": "code",
   "execution_count": 1823,
   "metadata": {},
   "outputs": [
    {
     "data": {
      "text/plain": [
       "[[4, 3, 0, 6, 2, 1, 7, 5, 8],\n",
       " [4, 0, 3, 6, 2, 1, 7, 5, 8],\n",
       " [4, 2, 3, 6, 0, 1, 7, 5, 8],\n",
       " [4, 2, 3, 6, 1, 0, 7, 5, 8],\n",
       " [4, 2, 0, 6, 1, 3, 7, 5, 8],\n",
       " [4, 0, 2, 6, 1, 3, 7, 5, 8],\n",
       " [4, 1, 2, 6, 0, 3, 7, 5, 8],\n",
       " [4, 1, 2, 6, 5, 3, 7, 0, 8],\n",
       " [4, 1, 2, 6, 5, 3, 0, 7, 8],\n",
       " [4, 1, 2, 0, 5, 3, 6, 7, 8],\n",
       " [0, 1, 2, 4, 5, 3, 6, 7, 8],\n",
       " [1, 0, 2, 4, 5, 3, 6, 7, 8],\n",
       " [1, 2, 0, 4, 5, 3, 6, 7, 8],\n",
       " [1, 2, 3, 4, 5, 0, 6, 7, 8],\n",
       " [1, 2, 3, 4, 0, 5, 6, 7, 8]]"
      ]
     },
     "execution_count": 1823,
     "metadata": {},
     "output_type": "execute_result"
    }
   ],
   "source": [
    "path = iterativeDeepeningSearch(startState, goalState, actionsF_8p, takeActionF_8p, 20)\n",
    "path"
   ]
  },
  {
   "cell_type": "markdown",
   "metadata": {},
   "source": [
    "Let's print out the state sequence in a readable form."
   ]
  },
  {
   "cell_type": "code",
   "execution_count": 1824,
   "metadata": {},
   "outputs": [
    {
     "name": "stdout",
     "output_type": "stream",
     "text": [
      "4 3 -\n",
      "6 2 1\n",
      "7 5 8\n",
      "\n",
      "4 - 3\n",
      "6 2 1\n",
      "7 5 8\n",
      "\n",
      "4 2 3\n",
      "6 - 1\n",
      "7 5 8\n",
      "\n",
      "4 2 3\n",
      "6 1 -\n",
      "7 5 8\n",
      "\n",
      "4 2 -\n",
      "6 1 3\n",
      "7 5 8\n",
      "\n",
      "4 - 2\n",
      "6 1 3\n",
      "7 5 8\n",
      "\n",
      "4 1 2\n",
      "6 - 3\n",
      "7 5 8\n",
      "\n",
      "4 1 2\n",
      "6 5 3\n",
      "7 - 8\n",
      "\n",
      "4 1 2\n",
      "6 5 3\n",
      "- 7 8\n",
      "\n",
      "4 1 2\n",
      "- 5 3\n",
      "6 7 8\n",
      "\n",
      "- 1 2\n",
      "4 5 3\n",
      "6 7 8\n",
      "\n",
      "1 - 2\n",
      "4 5 3\n",
      "6 7 8\n",
      "\n",
      "1 2 -\n",
      "4 5 3\n",
      "6 7 8\n",
      "\n",
      "1 2 3\n",
      "4 5 -\n",
      "6 7 8\n",
      "\n",
      "1 2 3\n",
      "4 - 5\n",
      "6 7 8\n",
      "\n"
     ]
    }
   ],
   "source": [
    "for p in path:\n",
    "    printState_8p(p)\n",
    "    print()"
   ]
  },
  {
   "cell_type": "markdown",
   "metadata": {},
   "source": [
    "Here is one way to format the search problem and solution in a readable form."
   ]
  },
  {
   "cell_type": "code",
   "execution_count": 1825,
   "metadata": {
    "scrolled": true
   },
   "outputs": [
    {
     "name": "stdout",
     "output_type": "stream",
     "text": [
      "Path from\n",
      "4 3 0\n",
      "6 2 1\n",
      "7 5 8\n",
      "to\n",
      "1 2 3\n",
      "4 0 5\n",
      "6 7 8\n",
      "is 15 nodes long:\n",
      "4 3 -\n",
      "6 2 1\n",
      "7 5 8\n",
      "\n",
      " 4 - 3\n",
      " 6 2 1\n",
      " 7 5 8\n",
      "\n",
      "  4 2 3\n",
      "  6 - 1\n",
      "  7 5 8\n",
      "\n",
      "   4 2 3\n",
      "   6 1 -\n",
      "   7 5 8\n",
      "\n",
      "    4 2 -\n",
      "    6 1 3\n",
      "    7 5 8\n",
      "\n",
      "     4 - 2\n",
      "     6 1 3\n",
      "     7 5 8\n",
      "\n",
      "      4 1 2\n",
      "      6 - 3\n",
      "      7 5 8\n",
      "\n",
      "       4 1 2\n",
      "       6 5 3\n",
      "       7 - 8\n",
      "\n",
      "        4 1 2\n",
      "        6 5 3\n",
      "        - 7 8\n",
      "\n",
      "         4 1 2\n",
      "         - 5 3\n",
      "         6 7 8\n",
      "\n",
      "          - 1 2\n",
      "          4 5 3\n",
      "          6 7 8\n",
      "\n",
      "           1 - 2\n",
      "           4 5 3\n",
      "           6 7 8\n",
      "\n",
      "            1 2 -\n",
      "            4 5 3\n",
      "            6 7 8\n",
      "\n",
      "             1 2 3\n",
      "             4 5 -\n",
      "             6 7 8\n",
      "\n",
      "              1 2 3\n",
      "              4 - 5\n",
      "              6 7 8\n",
      "\n"
     ]
    }
   ],
   "source": [
    "printPath_8p(startState, goalState, path)"
   ]
  },
  {
   "cell_type": "markdown",
   "metadata": {},
   "source": [
    "# A2Grader Test Results"
   ]
  },
  {
   "cell_type": "code",
   "execution_count": 1826,
   "metadata": {},
   "outputs": [
    {
     "name": "stdout",
     "output_type": "stream",
     "text": [
      "\n",
      "======================= Code Execution =======================\n",
      "\n",
      "Extracting python code from notebook named 'Gorbett-A2.ipynb' and storing in notebookcode.py\n",
      "Removing all statements that are not function or class defs or import statements.\n",
      "\n",
      "Searching this graph:\n",
      " {'a': ['b', 'z', 'd'], 'b': ['a'], 'e': ['z'], 'd': ['y'], 'y': ['z']}\n",
      "\n",
      "Looking for path from a to y with max depth of 1.\n",
      " 5/ 5 points. Your search correctly returned cutoff\n",
      "\n",
      "Looking for path from a to z with max depth of 5.\n",
      "10/10 points. Your search correctly returned ['a', 'z']\n",
      "\n",
      "Testing findBlank_8p([1, 2, 3, 4, 5, 6, 7, 0, 8])\n",
      " 5/ 5 points. Your findBlank_8p correctly returned 2 1\n",
      "\n",
      "Testing actionsF_8p([1, 2, 3, 4, 5, 6, 7, 0, 8])\n",
      "10/10 points. Your actionsF_8p correctly returned ['left', 'right', 'up']\n",
      "\n",
      "Testing takeActionF_8p([1, 2, 3, 4, 5, 6, 7, 0, 8],up)\n",
      "10/10 points. Your takeActionsF_8p correctly returned [1, 2, 3, 4, 0, 6, 7, 5, 8]\n",
      "\n",
      "Testing iterativeDeepeningSearch([1, 2, 3, 4, 5, 6, 7, 0, 8],[0, 2, 3, 1, 4,  6, 7, 5, 8], actionsF_8p, takeActionF_8p, 5)\n",
      "20/20 points. Your search correctly returned [[1, 2, 3, 4, 5, 6, 7, 0, 8], [1, 2, 3, 4, 0, 6, 7, 5, 8], [1, 2, 3, 0, 4, 6, 7, 5, 8], [0, 2, 3, 1, 4, 6, 7, 5, 8]]\n",
      "\n",
      "Testing iterativeDeepeningSearch([5, 2, 8, 0, 1, 4, 3, 7, 6], [0, 2, 3, 1, 4,  6, 7, 5, 8], actionsF_8p, takeActionF_8p, 10)\n",
      "20/20 points. Your search correctly returned cutoff\n",
      "\n",
      "440 Grade is 80/80\n",
      "\n",
      "Up to 20 more points will be given based on the quality of your descriptions of the method and the results.\n"
     ]
    }
   ],
   "source": [
    "%run -i A2grader.py"
   ]
  },
  {
   "cell_type": "markdown",
   "metadata": {},
   "source": [
    "# 15 puzzle\n",
    "\n",
    "[15 puzzle Wiki](https://en.wikipedia.org/wiki/15_puzzle)\n",
    "\n",
    "   This function follows the same logic as the 8 puzzle, only with more spaces and a different endpoint destination for the 0.  I tried to solve simple puzzles so that this algorithm didn't take forever to run.  I found one good one and two easy ones.  \n",
    "\n",
    "## Functions\n",
    "   #### actionsF_15p(startState)\n",
    "   I was able to group points together in this function that have the same moving options.  For example, in all the middle boxes (5,6,9,10), you can move left, right, up, or down.  This consolidates and cleans up the code a little bit, though there is still much room for cleaning up this code even more.  \n",
    "   \n",
    "   #### takeActionF_15p(startState, action):\n",
    "   This is very similiar to the 8 puzzle actions.  The only difference is that if you want to move up, you need to move back 4 spaces in the array, and down 4 spaces forward.  \n",
    "\n",
    "\n",
    "\n",
    "## Solvable\n",
    "https://www.geeksforgeeks.org/check-instance-15-puzzle-solvable/\n",
    "I implemented this function on a 4x4 matrix to check whether my puzzles were solvable.  They were taking so long and I wasn't sure, so I wrote this to be safe.  Functions: getRow(), countInversions(), solveable()\n"
   ]
  },
  {
   "cell_type": "code",
   "execution_count": 1827,
   "metadata": {},
   "outputs": [
    {
     "name": "stdout",
     "output_type": "stream",
     "text": [
      "Path from [1, 2, 6, 3, 4, 9, 5, 7, 8, 13, 11, 15, 12, 14, 0, 10] to [0, 1, 2, 3, 4, 5, 6, 7, 8, 9, 10, 11, 12, 13, 14, 15]:\n",
      "[1, 2, 6, 3, 4, 9, 5, 7, 8, 13, 11, 15, 12, 14, 0, 10]\n",
      "[1, 2, 6, 3, 4, 9, 5, 7, 8, 13, 11, 15, 12, 14, 10, 0]\n",
      "[1, 2, 6, 3, 4, 9, 5, 7, 8, 13, 11, 0, 12, 14, 10, 15]\n",
      "[1, 2, 6, 3, 4, 9, 5, 7, 8, 13, 0, 11, 12, 14, 10, 15]\n",
      "[1, 2, 6, 3, 4, 9, 5, 7, 8, 13, 10, 11, 12, 14, 0, 15]\n",
      "[1, 2, 6, 3, 4, 9, 5, 7, 8, 13, 10, 11, 12, 0, 14, 15]\n",
      "[1, 2, 6, 3, 4, 9, 5, 7, 8, 0, 10, 11, 12, 13, 14, 15]\n",
      "[1, 2, 6, 3, 4, 0, 5, 7, 8, 9, 10, 11, 12, 13, 14, 15]\n",
      "[1, 2, 6, 3, 4, 5, 0, 7, 8, 9, 10, 11, 12, 13, 14, 15]\n",
      "[1, 2, 0, 3, 4, 5, 6, 7, 8, 9, 10, 11, 12, 13, 14, 15]\n",
      "[1, 0, 2, 3, 4, 5, 6, 7, 8, 9, 10, 11, 12, 13, 14, 15]\n",
      "[0, 1, 2, 3, 4, 5, 6, 7, 8, 9, 10, 11, 12, 13, 14, 15]\n",
      "\n",
      "Path from [0, 1, 2, 3, 4, 5, 6, 7, 8, 9, 10, 11, 12, 13, 14, 15] to [0, 1, 2, 3, 4, 5, 6, 7, 8, 9, 10, 11, 12, 13, 14, 15]:\n",
      "[0, 1, 2, 3, 4, 5, 6, 7, 8, 9, 10, 11, 12, 13, 14, 15]\n",
      "\n",
      "Is Solvable?\n",
      "True\n",
      "Path from [1, 2, 3, 0, 4, 5, 6, 7, 8, 9, 10, 11, 12, 13, 14, 15] to [0, 1, 2, 3, 4, 5, 6, 7, 8, 9, 10, 11, 12, 13, 14, 15]:\n",
      "[1, 2, 3, 0, 4, 5, 6, 7, 8, 9, 10, 11, 12, 13, 14, 15]\n",
      "[1, 2, 0, 3, 4, 5, 6, 7, 8, 9, 10, 11, 12, 13, 14, 15]\n",
      "[1, 0, 2, 3, 4, 5, 6, 7, 8, 9, 10, 11, 12, 13, 14, 15]\n",
      "[0, 1, 2, 3, 4, 5, 6, 7, 8, 9, 10, 11, 12, 13, 14, 15]\n"
     ]
    }
   ],
   "source": [
    "def actionsF_15p(startState):\n",
    "\tblank=findBlank(startState)\n",
    "\tif(blank==0):\n",
    "\t\treturn ['right','down'] #these are the valid moves when the 0 is at the first space.  \n",
    "\telif(blank in (1,2)):\n",
    "\t\treturn ['left','right','down']\n",
    "\telif(blank==3):\n",
    "\t\treturn ['left','down']\n",
    "\telif(blank in (4,8)):\n",
    "\t\treturn ['right','up','down']\n",
    "\telif(blank in (5,6,9,10)):\n",
    "\t\treturn ['left','right','up','down']\n",
    "\telif(blank in (7,11)):\n",
    "\t\treturn ['left','up','down']\n",
    "\telif(blank==12):\n",
    "\t\treturn ['right','up']\n",
    "\telif(blank in (13,14)):\n",
    "\t\treturn ['left','right','up']\n",
    "\telif(blank==15):\n",
    "\t\treturn ['left','up']\n",
    "\n",
    "def takeActionF_15p(startState, action):\n",
    "\tcp=copy.copy(startState)\n",
    "\tblank=findBlank(cp)\n",
    "\tif(action=='down'):\n",
    "\t\tcp[blank], cp[blank+4] = cp[blank+4], cp[blank] #move up 4 in the array to simulate moving down on a 4x4 matrix\n",
    "\telif(action=='up'):\n",
    "\t\tcp[blank], cp[blank-4] = cp[blank-4], cp[blank]\n",
    "\telif(action=='left'):\n",
    "\t\tcp[blank], cp[blank-1] = cp[blank-1], cp[blank]\n",
    "\telif(action=='right'):\n",
    "\t\tcp[blank], cp[blank+1] = cp[blank+1], cp[blank]\n",
    "\treturn cp\n",
    "\n",
    "def countInversions(state):\n",
    "    inversionCount=0\n",
    "    for i in range(len(state)-1):\n",
    "        if(state[i] !=0 and state[i+1] !=0 ):\n",
    "            if(state[i]>state[i+1]): #an inversion is defined as a number in an array being greater than the next number.  \n",
    "                inversionCount+=1\n",
    "    return inversionCount\n",
    "\n",
    "def getRow(state):\n",
    "    blank=findBlank(state)\n",
    "    return math.floor(blank/4)\n",
    "\n",
    "def solveable(state):\n",
    "    count=countInversions(state)\n",
    "    row=getRow(state)\n",
    "    if(count%2==1 and (row==1 or row==3)):#the link above shows specific states where a 15 puzzle is solvable\n",
    "        return True\n",
    "    elif(count%2==0 and (row==0 or row==2)):\n",
    "        return True\n",
    "    else:\n",
    "        return False\n",
    "\n",
    "\n",
    "startState15 = [1, 2, 6, 3,4, 9, 5, 7, 8, 13, 11, 15,12, 14, 0, 10]\n",
    "goalState15 = [0, 1, 2, 3,4, 5, 6, 7, 8, 9, 10, 11,12, 13, 14, 15]\n",
    "\n",
    "path = iterativeDeepeningSearch(startState15, goalState15, actionsF_15p, takeActionF_15p, 25)\n",
    "\n",
    "print(\"Path from \" +str(startState15) + \" to \"+ str(goalState15) +\":\")\n",
    "for p in path:\n",
    "    print(p)\n",
    "    \n",
    "print()\n",
    "startState15 = [0, 1, 2, 3,4, 5, 6, 7, 8, 9, 10, 11,12, 13, 14, 15]\n",
    "path = iterativeDeepeningSearch(startState15, goalState15, actionsF_15p, takeActionF_15p, 25)\n",
    "\n",
    "print(\"Path from \" +str(startState15) + \" to \"+ str(goalState15) +\":\")\n",
    "for p in path:\n",
    "    print(p)\n",
    "\n",
    "\n",
    "startState15 = [1, 2, 3, 0, 4, 5, 6, 7, 8, 9, 10, 11,12, 13, 14, 15]\n",
    "isSolveable=solveable(startState15)\n",
    "\n",
    "print()\n",
    "print(\"Is Solvable?\")\n",
    "print(isSolveable)\n",
    "\n",
    "path = iterativeDeepeningSearch(startState15, goalState15, actionsF_15p, takeActionF_15p, 25)\n",
    "\n",
    "print(\"Path from \" +str(startState15) + \" to \"+ str(goalState15) +\":\")\n",
    "for p in path:\n",
    "    print(p)\n"
   ]
  },
  {
   "cell_type": "markdown",
   "metadata": {},
   "source": [
    "# Towers of Hanoi (attempt)\n",
    "\n",
    "I wasn't able to get this working correctly, but I enjoyed it nonetheless.  I felt like I was pretty close to solving this algorithm.  \n",
    "\n",
    "\n",
    "## Functions\n",
    "  #### depthLimitedSearch_hanoi\n",
    "   A slight modification of the main depthLimitedSearch function that compares a multidimensional numpy array for all correct values.  I needed this to compare the state and the goalState\n",
    "   \n",
    "  #### iterativeDeepeningSearch_hanoi\n",
    "  This was the same as the original iterativeDeepeningSearch, I needed it to call depthLimitedSearch_hanoi\n",
    "  \n",
    "  ##### actions_hanoi\n",
    "  I was able to implement a generator correctly here, which I was happy about.  Logic: Get the top value from each tower (if it has one), if its less than the value at the top of either of the other two towers, you can move it there.  First value in the response is the origin, second is the destination.  one_two goes from tower one to two.\n",
    "  \n",
    "  #### take_action_hanoi(startState, action)\n",
    "  Pop from one list and put into another and return.  \n",
    "  "
   ]
  },
  {
   "cell_type": "code",
   "execution_count": 1828,
   "metadata": {},
   "outputs": [
    {
     "name": "stdout",
     "output_type": "stream",
     "text": [
      "[array([list([]), list([3, 2, 1]), list([])], dtype=object), array([list([]), list([3, 2, 1]), list([])], dtype=object), array([list([]), list([3, 2, 1]), list([])], dtype=object), array([list([]), list([3, 2, 1]), list([])], dtype=object), array([list([]), list([3, 2, 1]), list([])], dtype=object), array([list([]), list([3, 2, 1]), list([])], dtype=object)]\n"
     ]
    }
   ],
   "source": [
    "def depthLimitedSearch_hanoi(state, goalState, actionsF, takeActionF, depthLimit):\n",
    "    if((state == goalState).all()):\n",
    "        return []\n",
    "    if(depthLimit==0):\n",
    "        return 'cutoff'\n",
    "    cutoffOccurred = False\n",
    "\n",
    "    for action in actionsF(state):\n",
    "        childState = takeActionF(state, action)\n",
    "        result=depthLimitedSearch_(childState, goalState, actionsF, takeActionF, depthLimit-1)\n",
    "        if(result=='cutoff'):\n",
    "            cutoffOccurred = True\n",
    "        elif(result!='failure'):\n",
    "            result.insert(0, childState)\n",
    "            return result\n",
    "    if(cutoffOccurred):\n",
    "        return 'cutoff'\n",
    "    else:\n",
    "        return 'failure'\n",
    "\n",
    "\n",
    "\n",
    "def iterativeDeepeningSearch_hanoi(startState, goalState, actionsF, takeActionF, maxDepth):\n",
    "    for depth in range(maxDepth):\n",
    "        result = depthLimitedSearch_hanoi(startState, goalState, actionsF, takeActionF, depth)\n",
    "        if(result=='failure'):\n",
    "            return 'failure'\n",
    "        if(result!='cutoff'):\n",
    "            result.insert(0, startState)   \n",
    "            return result\n",
    "    return 'cutoff'\n",
    "\n",
    "\n",
    "\n",
    "\n",
    "def actions_hanoi(state):\n",
    "    actions=[]\n",
    "    i=state[0]\n",
    "    if(i):\n",
    "        a=i[-1]\n",
    "    else:\n",
    "        a=4\n",
    "        \n",
    "    j=state[1]\n",
    "    if(j):\n",
    "        b=j[-1]\n",
    "    else:\n",
    "        b=4\n",
    "        \n",
    "    k=state[2]\n",
    "    if(k):\n",
    "        c=k[-1]\n",
    "    else:\n",
    "        c=4\n",
    "    if(a<b):\n",
    "        yield 'one_two'\n",
    "    if(a<c):\n",
    "        yield 'one_three'\n",
    "    if(b<a):\n",
    "        yield 'two_one'\n",
    "    if(b<c):\n",
    "        yield 'two_three'\n",
    "    if(c<a):\n",
    "        yield 'three_one'\n",
    "    if(c<b):\n",
    "        yield 'three_two'\n",
    "\n",
    "def take_action_hanoi(startState, action):\n",
    "    try:\n",
    "        cp=copy.copy(startState)\n",
    "        if(action=='one_two'):\n",
    "            pop=cp[0].pop(-1)\n",
    "            cp[1].append(pop)\n",
    "        if(action=='one_three'):\n",
    "            pop=cp[0].pop(-1)\n",
    "            cp[2].append(pop)\n",
    "        if(action=='two_one'):\n",
    "            pop=cp[1].pop(-1)\n",
    "            cp[0].append(pop)\n",
    "        if(action=='two_three'):\n",
    "            pop=cp[1].pop(-1)\n",
    "            cp[2].append(pop)\n",
    "        if(action=='three_one'):\n",
    "            \n",
    "            pop=cp[2].pop(-1)\n",
    "            cp[0].append(pop)\n",
    "        if(action=='three_two'):\n",
    "            pop=cp[2].pop(-1)\n",
    "            cp[1].append(pop)\n",
    "        return cp\n",
    "    except:\n",
    "        \n",
    "        return cp\n",
    "\n",
    "\n",
    "HanoiStart=np.array([[3,2,1],[],[]])\n",
    "HanoiEnd=np.array([[],[3,2,1],[]])\n",
    "\n",
    "path = iterativeDeepeningSearch_hanoi(HanoiStart, HanoiEnd, actions_hanoi, take_action_hanoi,8)\n",
    "print(path)"
   ]
  }
 ],
 "metadata": {
  "anaconda-cloud": {},
  "kernelspec": {
   "display_name": "Python 3",
   "language": "python",
   "name": "python3"
  },
  "language_info": {
   "codemirror_mode": {
    "name": "ipython",
    "version": 3
   },
   "file_extension": ".py",
   "mimetype": "text/x-python",
   "name": "python",
   "nbconvert_exporter": "python",
   "pygments_lexer": "ipython3",
   "version": "3.6.5"
  }
 },
 "nbformat": 4,
 "nbformat_minor": 1
}

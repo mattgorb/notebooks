{
 "cells": [
  {
   "cell_type": "markdown",
   "metadata": {},
   "source": [
    "# A3: A\\*, IDS, and Effective Branching Factor\n",
    "\n",
    "### Name: Matt Gorbett"
   ]
  },
  {
   "cell_type": "markdown",
   "metadata": {},
   "source": [
    "## Overview\n",
    "\n",
    "For this assignment, I implemented the aStarSearch function along with a modified version of iterative deepening search from the last assignment.  On top of this, I also implemented the effective branching factor binary search algorithm along with a method to test the effectiveness of both aStarSearch and ITS, titled runExperiment.  Here is a summary of my methods:\n",
    "\n",
    "#### aStarSearch(startState, actionsF, takeActionF, goalTestF, hF)\n",
    "This method was taken was lecture notes on aStarSearch.  Understanding this function was hard enough, I'm glad we didn't have to implement it from scratch.  \n",
    "\n",
    "#### iterativeDeepeningSearch(startState, goalState, actionsF, takeActionF, maxDepth):\n",
    "This was modified from my last assignment to include cost.  I modified each function response to return a tuple of (x,cost=1).  \n",
    "\n",
    "#### ebf(nodes, depth, precision=0.01)\n",
    "This was a fun function to implement.  It was a basic binary search algorithm searching for a midpoint with precision=0.01.  My implementation of the function from the notes was the following:\n",
    "calc=(1-midpoint**(depth+1))/(1-midpoint)\n",
    "If this value minus the total number of nodes is less than the precision, we have found the point and we can return the value.  I confirmed these were the same values as the values when calculated in the original notebook.  \n",
    "\n",
    "#### h1_8p(state, goal)\n",
    "This function returns 0.\n",
    "\n",
    "#### h2_8p(state, goal)\n",
    "This function returns the Manhattan distance.  To do this, I returned the (rows,columns) from the findBlank_8p function and execute the euclidean distance, which is:\n",
    "abs(statePosition[0]-goalPosition[0])+abs(statePosition[1]-goalPosition[1])\n",
    "\n",
    "For the 8 puzzle, it is required to find the distance on both the x and y planes\n",
    "\n",
    "#### h3_8p(state, goal)\n",
    "This function returns the Euclidean distance.  To do this, I returned the (rows,columns) from the findBlank_8p function and execute the euclidean distance, which is:\n",
    "math.sqrt(abs(statePosition[0]-goalPosition[0])**2+abs(statePosition[1]-goalPosition[1])**2).\n",
    "\n",
    "#### runExperiment(goalState1, goalState2, goalState3, h) *extra credit included\n",
    "For this function, I created three tables for each of the three goal states.  I looped three the three goal states and executed IDS and A* with each of the 3 heuristic functions.  I was able to log the time each run took and add it to the pandas table.  A tricky part of this method was logging the depth and nodes of each algorithm.  I used global variables for each search function and incremented them where necessary.  Once each function completed, I set the variables back to 0.     \n",
    "\n"
   ]
  },
  {
   "cell_type": "code",
   "execution_count": 6,
   "metadata": {},
   "outputs": [
    {
     "name": "stdout",
     "output_type": "stream",
     "text": [
      "[('b', 1), ('c', 1)]\n",
      "b\n",
      "0\n",
      "1\n",
      "1\n",
      "c\n",
      "0\n",
      "1\n",
      "1\n",
      "[('d', 1), ('e', 1)]\n",
      "d\n",
      "0\n",
      "2\n",
      "2\n",
      "e\n",
      "0\n",
      "2\n",
      "2\n",
      "[('f', 1)]\n",
      "f\n",
      "0\n",
      "2\n",
      "2\n",
      "[('i', 1), ('j', 1)]\n",
      "i\n",
      "0\n",
      "3\n",
      "3\n",
      "j\n",
      "0\n",
      "3\n",
      "3\n",
      "[('d', 1), ('e', 1)]\n",
      "d\n",
      "0\n",
      "2\n",
      "2\n",
      "e\n",
      "0\n",
      "2\n",
      "2\n",
      "[('g', 1), ('h', 1)]\n",
      "g\n",
      "0\n",
      "3\n",
      "3\n",
      "h\n",
      "0\n",
      "3\n",
      "3\n",
      "[]\n",
      "[('g', 1), ('h', 1)]\n",
      "g\n",
      "0\n",
      "3\n",
      "3\n",
      "h\n",
      "0\n",
      "3\n",
      "3\n",
      "[]\n",
      "Path from a to h is ['a', 'b', 'd', 'h'] for a cost of 3\n",
      "(['a', 'b', 'd', 'h'], 3)\n"
     ]
    }
   ],
   "source": [
    "import numpy as np\n",
    "import copy\n",
    "import math\n",
    "\n",
    "class Node:\n",
    "    def __init__(self, state, f=0, g=0 ,h=0):\n",
    "        self.state = state\n",
    "        self.f = f\n",
    "        self.g = g\n",
    "        self.h = h\n",
    "    def __repr__(self):\n",
    "        return \"Node(\" + repr(self.state) + \", f=\" + repr(self.f) + \\\n",
    "               \", g=\" + repr(self.g) + \", h=\" + repr(self.h) + \")\"\n",
    "\n",
    "def aStarSearch(startState, actionsF, takeActionF, goalTestF, hF):\n",
    "    \"\"\"\n",
    "    this method was taken from http://nbviewer.jupyter.org/url/www.cs.colostate.edu/~anderson/cs440/notebooks/07%20Informed%20Search.ipynb\"\"\"\n",
    "    global Nodes\n",
    "    global prevBest\n",
    "    prevBest=None\n",
    "    Nodes=0\n",
    "    h = hF(startState)\n",
    "    startNode = Node(state=startState, f=0+h, g=0, h=h)\n",
    "\n",
    "\n",
    "    return aStarSearchHelper(startNode, actionsF, takeActionF, goalTestF, hF, float('inf'))\n",
    "\n",
    "def aStarSearchHelper(parentNode, actionsF, takeActionF, goalTestF, hF, fmax):\n",
    "    global Depth\n",
    "    global Nodes\n",
    "    global prevBest\n",
    "    \n",
    "    if goalTestF(parentNode.state):\n",
    "        return ([parentNode.state], parentNode.g)\n",
    "    ## Construct list of children nodes with f, g, and h values\n",
    "    actions = actionsF(parentNode.state)\n",
    "    \n",
    "    if not actions:\n",
    "        return (\"failure\", float('inf'))\n",
    "    children = []\n",
    "\n",
    "    \n",
    "    for action in actions:\n",
    "        (childState,stepCost) = takeActionF(parentNode.state, action)\n",
    "        h = hF(childState)\n",
    "        g = parentNode.g + stepCost\n",
    "        f = max(h+g, parentNode.f)\n",
    "        childNode = Node(state=childState, f=f, g=g, h=h)\n",
    "        children.append(childNode)\n",
    "\n",
    "    \n",
    "            \n",
    "\n",
    "    while True:\n",
    "        Nodes+=1\n",
    "        # find best child\n",
    "        children.sort(key = lambda n: n.f) # sort by f value\n",
    "        #print(children)\n",
    "        bestChild = children[0]\n",
    "        \n",
    "        if bestChild.f > fmax:\n",
    "            return (\"failure\",bestChild.f)\n",
    "        # next lowest f value\n",
    "        alternativef = children[1].f if len(children) > 1 else float('inf')\n",
    "        # expand best child, reassign its f value to be returned value\n",
    "        Depth=min(fmax,alternativef)\n",
    "        result,bestChild.f = aStarSearchHelper(bestChild, actionsF, takeActionF, goalTestF,\n",
    "                                            hF, min(fmax,alternativef))\n",
    "        if result is not \"failure\":               #        g\n",
    "            result.insert(0,parentNode.state)     #       / \n",
    "            return (result, bestChild.f)          #      d\n",
    "                                                  #     / \\ \n",
    "#Used these methods for testing purposes.  \n",
    "successors = {'a': ['b','c'],                 #  a   e  \n",
    "                  'b': ['d','e'],                 #   \\         \n",
    "                  'c': ['f'],                     #    c   i\n",
    "                  'd': ['g', 'h'],                #     \\ / \n",
    "                  'f': ['i','j']}                 #      f  \n",
    "\n",
    "def actionsF(s):                              #       \\ \n",
    "    try:                                      #        j\n",
    "        ## step cost of each action is 1\n",
    "        return [(succ,1) for succ in successors[s]]\n",
    "    except KeyError:\n",
    "            return []\n",
    "def takeActionF(s,a):\n",
    "    return a\n",
    "def goalTestF(s):\n",
    "    return s == goal\n",
    "def h1(s):\n",
    "    return 0\n",
    "\n",
    "\n",
    "start = 'a'\n",
    "goal = 'h'\n",
    "result = aStarSearch(start,actionsF,takeActionF,goalTestF,h1)\n",
    "print('Path from a to h is', result[0], 'for a cost of', result[1])\n",
    "print(result)"
   ]
  },
  {
   "cell_type": "code",
   "execution_count": null,
   "metadata": {},
   "outputs": [],
   "source": [
    "'''\n",
    "import numpy as np\n",
    "import copy\n",
    "import math\n",
    "\n",
    "class Node:\n",
    "    def __init__(self, state, f=0, g=0 ,h=0):\n",
    "        self.state = state\n",
    "        self.f = f\n",
    "        self.g = g\n",
    "        self.h = h\n",
    "    def __repr__(self):\n",
    "        return \"Node(\" + repr(self.state) + \", f=\" + repr(self.f) + \\\n",
    "               \", g=\" + repr(self.g) + \", h=\" + repr(self.h) + \")\"\n",
    "\n",
    "def aStarSearch(startState, actionsF, takeActionF, goalTestF, hF):\n",
    "    \"\"\"\n",
    "    this method was taken from http://nbviewer.jupyter.org/url/www.cs.colostate.edu/~anderson/cs440/notebooks/07%20Informed%20Search.ipynb\"\"\"\n",
    "    global Nodes\n",
    "    global prevBest\n",
    "    prevBest=None\n",
    "    Nodes=0\n",
    "    h = hF(startState)\n",
    "    startNode = Node(state=startState, f=0+h, g=0, h=h)\n",
    "    return aStarSearchHelper(startNode, actionsF, takeActionF, goalTestF, hF, float('inf'))\n",
    "\n",
    "def aStarSearchHelper(parentNode, actionsF, takeActionF, goalTestF, hF, fmax):\n",
    "    global Depth\n",
    "    global Nodes\n",
    "    global prevBest\n",
    "    \n",
    "    if goalTestF(parentNode.state):\n",
    "        return ([parentNode.state], parentNode.g)\n",
    "    ## Construct list of children nodes with f, g, and h values\n",
    "    actions = actionsF(parentNode.state)\n",
    "    if not actions:\n",
    "        return (\"failure\", float('inf'))\n",
    "    children = []\n",
    "\n",
    "    for action in actions:\n",
    "        (childState,stepCost) = takeActionF(parentNode.state, action)\n",
    "        h = hF(childState)\n",
    "        g = parentNode.g + stepCost\n",
    "        f = max(h+g, parentNode.f)\n",
    "        childNode = Node(state=childState, f=f, g=g, h=h)\n",
    "        children.append(childNode)\n",
    "\n",
    "            \n",
    "\n",
    "    while True:\n",
    "        Nodes+=1\n",
    "        # find best child\n",
    "        children.sort(key = lambda n: n.f) # sort by f value\n",
    "        #print(children)\n",
    "        bestChild = children[0]\n",
    "        \n",
    "        '''prevBest was my attempt to not include failures in this function, because they result in infinite loops.  However\n",
    "        i wasnt quite able to get this to work.  keeping code in here for future purposes.  '''\n",
    "        \n",
    "        '''if(prevBest is None):\n",
    "            prevBest=bestChild\n",
    "        else:\n",
    "            if(prevBest.f==bestChild.f and prevBest.g==bestChild.g and prevBest.h==bestChild.h):\n",
    "                \n",
    "                return \"Could not find\"\n",
    "            else:\n",
    "                prevBest=copy.copy(bestChild)\n",
    "                print(prevBest)\n",
    "        '''\n",
    "        \n",
    "        if bestChild.f > fmax:\n",
    "            return (\"failure\",bestChild.f)\n",
    "        # next lowest f value\n",
    "        alternativef = children[1].f if len(children) > 1 else float('inf')\n",
    "        # expand best child, reassign its f value to be returned value\n",
    "        Depth=min(fmax,alternativef)\n",
    "        result,bestChild.f = aStarSearchHelper(bestChild, actionsF, takeActionF, goalTestF,\n",
    "                                            hF, min(fmax,alternativef))\n",
    "        if result is not \"failure\":               #        g\n",
    "            result.insert(0,parentNode.state)     #       / \n",
    "\n",
    "            return (result, bestChild.f)          #      d\n",
    "                                                  #     / \\ \n",
    "#Used these methods for testing purposes.  \n",
    "successors = {'a': ['b','c'],                 #  a   e  \n",
    "                  'b': ['d','e'],                 #   \\         \n",
    "                  'c': ['f'],                     #    c   i\n",
    "                  'd': ['g', 'h'],                #     \\ / \n",
    "                  'f': ['i','j']}                 #      f  \n",
    "\n",
    "def actionsF(s):                              #       \\ \n",
    "    try:                                      #        j\n",
    "        ## step cost of each action is 1\n",
    "        return [(succ,1) for succ in successors[s]]\n",
    "    except KeyError:\n",
    "            return []\n",
    "def takeActionF(s,a):\n",
    "    return a\n",
    "def goalTestF(s):\n",
    "    return s == goal\n",
    "def h1(s):\n",
    "    return 0\n",
    "\n",
    "\n",
    "\n",
    "\n",
    "\n",
    "\n",
    "\n",
    "def depthLimitedSearch(state, goalState, actionsF, takeActionF, depthLimit, cost=0):\n",
    "    global Nodes\n",
    "    global Depth\n",
    "    if(state == goalState):\n",
    "        return []\n",
    "    if(depthLimit==0):\n",
    "        return 'cutoff'\n",
    "    cutoffOccurred = False\n",
    "    for action in actionsF(state):\n",
    "        childState = takeActionF(state, action)\n",
    "        Nodes+=1\n",
    "        cost+=childState[1]\n",
    "        result = depthLimitedSearch(childState[0], goalState, actionsF, takeActionF, depthLimit-1)\n",
    "        if(result=='cutoff'):\n",
    "            cutoffOccurred = True\n",
    "        elif(result!='failure'):\n",
    "            result.insert(0, childState[0])\n",
    "            return result\n",
    "    if(cutoffOccurred):\n",
    "        return 'cutoff'\n",
    "    else:\n",
    "        return 'failure'\n",
    "\n",
    "\n",
    "\n",
    "def iterativeDeepeningSearch(startState, goalState, actionsF, takeActionF, maxDepth):\n",
    "    \"\"\"\n",
    "    taken from previous assignment.added nodes and depth global variables for experiment\"\"\"\n",
    "    global Nodes\n",
    "    global Depth\n",
    "    for depth in range(maxDepth):\n",
    "        Depth=depth\n",
    "        result = depthLimitedSearch(startState, goalState, actionsF, takeActionF, depth)\n",
    "        if(result=='failure'):\n",
    "            return 'failure'\n",
    "        if(result!='cutoff'):\n",
    "            result.insert(0, startState)\n",
    "            return result\n",
    "        \n",
    "    return 'cutoff'\n",
    "\n",
    "\n",
    "\n",
    "def actionsF_8p(startState):\n",
    "\tblank=findBlank(startState)\n",
    "\tif(blank==0):\n",
    "\t\treturn [('down',1),('right',1)] #actions available when 0 is at first square\n",
    "\telif(blank==1):\n",
    "\t\treturn [('left',1),('down',1),('right',1)]\n",
    "\telif(blank==2):\n",
    "\t\treturn [('left',1),('down',1)]\n",
    "\telif(blank==3):\n",
    "\t\treturn [('up',1),('down',1), ('right',1)]\n",
    "\telif(blank==4):\n",
    "\t\treturn [('up',1),('right',1),('left',1),('down',1)]\n",
    "\telif(blank==5):\n",
    "\t\treturn [('left',1),('down',1),('up',1)]\n",
    "\telif(blank==6):\n",
    "\t\treturn [('up',1),('right',1)]\n",
    "\telif(blank==7):\n",
    "\t\treturn [('left',1),('right',1),('up',1)]\n",
    "\telif(blank==8):\n",
    "\t\treturn [('left',1),('up',1)]\n",
    "\n",
    "\n",
    "def takeActionF_8p(startState, action):\n",
    "\tcp=copy.copy(startState) #create copy of startState to alter\n",
    "\tblank=findBlank(cp)\n",
    "\tif(action[0]=='down'):\n",
    "\t\tcp[blank], cp[blank+3] = cp[blank+3], cp[blank]\n",
    "\telif(action[0]=='up'):\n",
    "\t\tcp[blank], cp[blank-3] = cp[blank-3], cp[blank]\n",
    "\telif(action[0]=='left'):\n",
    "\t\tcp[blank], cp[blank-1] = cp[blank-1], cp[blank]\n",
    "\telif(action[0]=='right'):\n",
    "\t\tcp[blank], cp[blank+1] = cp[blank+1], cp[blank]\n",
    "\treturn (cp,1)\n",
    "\n",
    "def findBlank(startState):\n",
    "\treturn startState.index(0) #to get the index of the 0 in a normal (non NumPy) list\n",
    "\n",
    "def goalTestF_8p(state, goal):\n",
    "    return state==goal\n",
    "\n",
    "def ebf(nodes, depth, precision=0.01):\n",
    "    \"\"\"binary search, with last equal to number of numbers.  Execute the equation given in lecture notes to \n",
    "    determine if we've found b (calc).  \"\"\"\n",
    "    if (depth==0):\n",
    "        return 1\n",
    "\n",
    "    first = 1\n",
    "    last = nodes\n",
    "    found = False\n",
    "    midpoint = 0\n",
    "\n",
    "\n",
    "    while first <= last and not found:\n",
    "        midpoint = (first + last) / 2\n",
    "        if(midpoint!=1):\n",
    "            calc=(1-midpoint**(depth+1))/(1-midpoint)\n",
    "        else:\n",
    "            calc=1\n",
    "        if abs(calc - nodes) < precision:\n",
    "            found = True\n",
    "        else:\n",
    "            if nodes < calc:\n",
    "                last = midpoint\n",
    "                \n",
    "            else:\n",
    "                first = midpoint\n",
    "                \n",
    "\n",
    "    return midpoint\n",
    "\n",
    "\n",
    "\n",
    "\n",
    "start = 'a'\n",
    "goal = 'h'\n",
    "result = aStarSearch(start,actionsF,takeActionF,goalTestF,h1)\n",
    "print('Path from a to h is', result[0], 'for a cost of', result[1])\n",
    "print(result)'''"
   ]
  },
  {
   "cell_type": "markdown",
   "metadata": {},
   "source": [
    "## Heuristic Functions\n",
    "\n",
    "  * `h1_8p(state, goal)`: $h(state, goal) = 0$, for all states $state$ and all goal states $goal$,\n",
    "  * `h2_8p(state, goal)`: $h(state, goal) = m$, where $m$ is the Manhattan distance that the blank is from its goal position,\n",
    "  * `h3_8p(state, goal)`: $h(state, goal) = e$, where e is the euclidean distance from blank to its goal position. "
   ]
  },
  {
   "cell_type": "code",
   "execution_count": 88,
   "metadata": {},
   "outputs": [],
   "source": [
    "import math\n",
    "def findBlank_8p(startState):\n",
    "\trow=math.floor(startState.index(0)/3) #equal to the index of 0 divided by 3 and rounded down\n",
    "\tcolumn=startState.index(0)%3 #the column is convienently equal to the remainder when divided by 3\n",
    "\treturn (row,column)\n",
    "\n",
    "def h1_8p(state, goal):\n",
    "    return 0\n",
    "\n",
    "def h2_8p(state,goal):\n",
    "    statePosition = findBlank_8p(state)\n",
    "    goalPosition = findBlank_8p(goal)\n",
    "    return abs(statePosition[0]-goalPosition[0])+abs(statePosition[1]-goalPosition[1])\n",
    "    \n",
    "def h3_8p(state,goal):\n",
    "    statePosition = findBlank_8p(state)\n",
    "    goalPosition = findBlank_8p(goal)\n",
    "    return math.sqrt(abs(statePosition[0]-goalPosition[0])**2+abs(statePosition[1]-goalPosition[1])**2)"
   ]
  },
  {
   "cell_type": "markdown",
   "metadata": {},
   "source": [
    "## Comparison"
   ]
  },
  {
   "cell_type": "markdown",
   "metadata": {},
   "source": [
    "Apply all four algorithms (`iterativeDeepeningSearch` plus `aStarSearch` with the three heuristic\n",
    "functions) to three eight-tile puzzle problems with start state\n",
    "\n",
    "$$\n",
    "\\begin{array}{ccc}\n",
    "1 & 2 & 3\\\\\n",
    "4 & 0 & 5\\\\\n",
    "6 & 7 & 8\n",
    "\\end{array}\n",
    "$$\n",
    "\n",
    "and these three goal states.\n",
    "\n",
    "$$\n",
    "\\begin{array}{ccccccccccc}\n",
    "1 & 2 & 3  & ~~~~ & 1 & 2 & 3  &  ~~~~ & 1 & 0 &  3\\\\\n",
    "4 & 0 & 5  & & 4 & 5 & 8  & & 4 & 5 & 8\\\\\n",
    "6 & 7 & 8 &  & 6 & 0 & 7  & & 2 & 6 & 7\n",
    "\\end{array}\n",
    "$$"
   ]
  },
  {
   "cell_type": "code",
   "execution_count": 89,
   "metadata": {},
   "outputs": [
    {
     "name": "stdout",
     "output_type": "stream",
     "text": [
      "[1, 2, 3, 4, 0, 5, 6, 7, 8]\n",
      "Algorithm Depth Nodes EBF  Duration (sec)\n",
      "     IDS     0     0   1        0.000010\n",
      "    A*H1     0     0   1        0.000012\n",
      "    A*H2     0     0   1        0.000018\n",
      "    A*H3     0     0   1        0.000024\n",
      "\n",
      "\n",
      "[1, 2, 3, 4, 5, 8, 6, 0, 7]\n",
      "Algorithm Depth Nodes       EBF  Duration (sec)\n",
      "     IDS     3    40  3.000107        0.000098\n",
      "    A*H1     3    71  3.739182        0.000467\n",
      "    A*H2     3    27  2.563904        0.000326\n",
      "    A*H3     3    21  2.311035        0.000282\n",
      "\n",
      "\n",
      "[1, 0, 3, 4, 5, 8, 2, 6, 7]\n",
      "Algorithm Depth   Nodes       EBF  Duration (sec)\n",
      "     IDS     9   40100  3.109856        0.092767\n",
      "    A*H1    11  315977  3.049874        1.701036\n",
      "    A*H2    11   64213  2.618563        0.544277\n",
      "    A*H3    11  246849  2.979021        2.188086\n",
      "\n",
      "\n"
     ]
    }
   ],
   "source": [
    "import pandas as pd\n",
    "import time\n",
    "\n",
    "\n",
    "def runExperiment(goalState1, goalState2, goalState3, h):\n",
    "    \"\"\"set global variables to find nodes and depth of each search.  for each goal, create a new pandas dataframe and\n",
    "    execute ebf and time methods to add to dataframe along with nodes and depth.  \n",
    "    \"\"\"\n",
    "    global Depth\n",
    "    global Nodes\n",
    "    Depth=0\n",
    "    Nodes=0\n",
    "    \n",
    "    h1_8p = h[0]\n",
    "    h2_8p = h[1]\n",
    "    h3_8p = h[2]\n",
    "    \n",
    "    for goal in [goalState1,goalState2,goalState3]:\n",
    "        results=pd.DataFrame(columns=['Algorithm','Depth', 'Nodes', 'EBF','Duration (sec)'])\n",
    "        print(goal)\n",
    "        Nodes = 0\n",
    "        Depth = 0\n",
    "        start_time = time.time()\n",
    "        solutionPath = iterativeDeepeningSearch(startState, goal, actionsF_8p, takeActionF_8p, 10)\n",
    "        end_time = time.time()\n",
    "\n",
    "        results.loc[-1] = [\"IDS\", Depth,Nodes,ebf(Nodes,Depth),end_time-start_time]\n",
    "        results.index = results.index + 1\n",
    "        \n",
    "        start_time = time.time()\n",
    "        solutionPath =aStarSearch(startState, actionsF_8p, takeActionF_8p, lambda s: goalTestF_8p(s, goal),lambda s: h1_8p(s, goal))\n",
    "        end_time = time.time()        \n",
    "        results.loc[-1] = [\"A*H1\", Depth,Nodes,ebf(Nodes,Depth),end_time-start_time]\n",
    "        results.index = results.index + 1   \n",
    "\n",
    "        start_time = time.time()\n",
    "        solutionPath = aStarSearch(startState, actionsF_8p, takeActionF_8p, lambda s: goalTestF_8p(s, goal),lambda s: h2_8p(s, goal))\n",
    "        end_time = time.time()        \n",
    "        results.loc[-1] = [\"A*H2\", Depth,Nodes,ebf(Nodes,Depth),end_time-start_time]\n",
    "        results.index = results.index + 1   \n",
    "        \n",
    "        start_time = time.time()\n",
    "        solutionPath =aStarSearch(startState, actionsF_8p, takeActionF_8p, lambda s: goalTestF_8p(s, goal),lambda s: h3_8p(s, goal))\n",
    "        end_time = time.time()\n",
    "        results.loc[-1] = [\"A*H3\", Depth,Nodes,ebf(Nodes,Depth),end_time-start_time]\n",
    "        results.index = results.index + 1   \n",
    "        \n",
    "        print(results.to_string(index=False))\n",
    "        print()\n",
    "        print()\n",
    "\n",
    "    \n",
    "startState = [1, 2, 3, 4, 0, 5, 6, 7, 8]\n",
    "goalState1 = [1, 2, 3, 4, 0, 5, 6, 7, 8]\n",
    "goalState2 = [1, 2, 3, 4, 5, 8, 6, 0, 7]\n",
    "goalState3 = [1, 0, 3, 4, 5, 8, 2, 6, 7]\n",
    "runExperiment(goalState1, goalState2, goalState3, [h1_8p, h2_8p, h3_8p])"
   ]
  },
  {
   "cell_type": "markdown",
   "metadata": {},
   "source": [
    "First, some example output for the ebf function.  During execution, this example shows debugging output which is the low and high values passed into a recursive helper function.\n",
    "\n",
    "## Tests from original notebook "
   ]
  },
  {
   "cell_type": "code",
   "execution_count": 90,
   "metadata": {},
   "outputs": [
    {
     "data": {
      "text/plain": [
       "1.661376953125"
      ]
     },
     "execution_count": 90,
     "metadata": {},
     "output_type": "execute_result"
    }
   ],
   "source": [
    "ebf(10, 3)"
   ]
  },
  {
   "cell_type": "markdown",
   "metadata": {},
   "source": [
    "The smallest argument values should be a depth of 0, and 1 node."
   ]
  },
  {
   "cell_type": "code",
   "execution_count": 91,
   "metadata": {},
   "outputs": [
    {
     "data": {
      "text/plain": [
       "1"
      ]
     },
     "execution_count": 91,
     "metadata": {},
     "output_type": "execute_result"
    }
   ],
   "source": [
    "ebf(1, 0)"
   ]
  },
  {
   "cell_type": "code",
   "execution_count": 92,
   "metadata": {},
   "outputs": [
    {
     "data": {
      "text/plain": [
       "1.0078125"
      ]
     },
     "execution_count": 92,
     "metadata": {},
     "output_type": "execute_result"
    }
   ],
   "source": [
    "ebf(2, 1)"
   ]
  },
  {
   "cell_type": "code",
   "execution_count": 93,
   "metadata": {},
   "outputs": [
    {
     "data": {
      "text/plain": [
       "1.0000009536743164"
      ]
     },
     "execution_count": 93,
     "metadata": {},
     "output_type": "execute_result"
    }
   ],
   "source": [
    "ebf(2, 1, precision=0.000001)"
   ]
  },
  {
   "cell_type": "code",
   "execution_count": 94,
   "metadata": {},
   "outputs": [
    {
     "data": {
      "text/plain": [
       "11.275596931956898"
      ]
     },
     "execution_count": 94,
     "metadata": {},
     "output_type": "execute_result"
    }
   ],
   "source": [
    "ebf(200000, 5)"
   ]
  },
  {
   "cell_type": "code",
   "execution_count": 95,
   "metadata": {},
   "outputs": [
    {
     "data": {
      "text/plain": [
       "1.2348192492705223"
      ]
     },
     "execution_count": 95,
     "metadata": {},
     "output_type": "execute_result"
    }
   ],
   "source": [
    "ebf(200000, 50)"
   ]
  },
  {
   "cell_type": "markdown",
   "metadata": {},
   "source": [
    "Here is a simple example using our usual simple graph search."
   ]
  },
  {
   "cell_type": "code",
   "execution_count": 96,
   "metadata": {},
   "outputs": [],
   "source": [
    "def actionsF_simple(state):\n",
    "    succs = {'a': ['b', 'c'], 'b':['a'], 'c':['h'], 'h':['i'], 'i':['j', 'k', 'l'], 'k':['z']}\n",
    "    return [(s, 1) for s in succs.get(state, [])]\n",
    "\n",
    "def takeActionF_simple(state, action):\n",
    "    return action\n",
    "\n",
    "def goalTestF_simple(state, goal):\n",
    "    return state == goal\n",
    "\n",
    "def h_simple(state, goal):\n",
    "    return 1"
   ]
  },
  {
   "cell_type": "code",
   "execution_count": 97,
   "metadata": {},
   "outputs": [
    {
     "data": {
      "text/plain": [
       "[('b', 1), ('c', 1)]"
      ]
     },
     "execution_count": 97,
     "metadata": {},
     "output_type": "execute_result"
    }
   ],
   "source": [
    "actions = actionsF_simple('a')\n",
    "actions"
   ]
  },
  {
   "cell_type": "code",
   "execution_count": 98,
   "metadata": {},
   "outputs": [
    {
     "data": {
      "text/plain": [
       "('b', 1)"
      ]
     },
     "execution_count": 98,
     "metadata": {},
     "output_type": "execute_result"
    }
   ],
   "source": [
    "takeActionF_simple('a', actions[0])"
   ]
  },
  {
   "cell_type": "code",
   "execution_count": 99,
   "metadata": {},
   "outputs": [
    {
     "data": {
      "text/plain": [
       "True"
      ]
     },
     "execution_count": 99,
     "metadata": {},
     "output_type": "execute_result"
    }
   ],
   "source": [
    "goalTestF_simple('a', 'a')"
   ]
  },
  {
   "cell_type": "code",
   "execution_count": 100,
   "metadata": {},
   "outputs": [
    {
     "data": {
      "text/plain": [
       "1"
      ]
     },
     "execution_count": 100,
     "metadata": {},
     "output_type": "execute_result"
    }
   ],
   "source": [
    "h_simple('a', 'z')"
   ]
  },
  {
   "cell_type": "code",
   "execution_count": 101,
   "metadata": {},
   "outputs": [
    {
     "data": {
      "text/plain": [
       "['a', 'c', 'h', 'i', 'k', 'z']"
      ]
     },
     "execution_count": 101,
     "metadata": {},
     "output_type": "execute_result"
    }
   ],
   "source": [
    "iterativeDeepeningSearch('a', 'z', actionsF_simple, takeActionF_simple, 10)"
   ]
  },
  {
   "cell_type": "code",
   "execution_count": 102,
   "metadata": {},
   "outputs": [
    {
     "data": {
      "text/plain": [
       "(['a', 'c', 'h', 'i', 'k', 'z'], 5)"
      ]
     },
     "execution_count": 102,
     "metadata": {},
     "output_type": "execute_result"
    }
   ],
   "source": [
    "aStarSearch('a',actionsF_simple, takeActionF_simple,\n",
    "            lambda s: goalTestF_simple(s, 'z'),\n",
    "            lambda s: h_simple(s, 'z'))"
   ]
  },
  {
   "cell_type": "markdown",
   "metadata": {},
   "source": [
    "## Grading"
   ]
  },
  {
   "cell_type": "markdown",
   "metadata": {},
   "source": [
    "# Results"
   ]
  },
  {
   "cell_type": "code",
   "execution_count": 103,
   "metadata": {},
   "outputs": [
    {
     "name": "stdout",
     "output_type": "stream",
     "text": [
      "\n",
      "======================= Code Execution =======================\n",
      "\n",
      "Extracting python code from notebook named 'Gorbett-A3.ipynb' and storing in notebookcode.py\n",
      "Removing all statements that are not function or class defs or import statements.\n",
      "\n",
      "Testing actionsF_8p([1, 2, 3, 4, 5, 6, 7, 0, 8])\n",
      "\n",
      "--- 5/5 points. Your actionsF_8p correctly returned [('left', 1), ('right', 1), ('up', 1)]\n",
      "\n",
      "Testing takeActionF_8p([1, 2, 3, 4, 5, 6, 7, 0, 8], (up, 1))\n",
      "\n",
      "--- 5/5 points. Your takeActionsF_8p correctly returned ([1, 2, 3, 4, 0, 6, 7, 5, 8], 1)\n",
      "\n",
      "Testing goalTestF_8p([1, 2, 3, 4, 5, 6, 7, 0, 8], [1, 2, 3, 4, 5, 6, 7, 0, 8])\n",
      "\n",
      "--- 5/5 points. Your goalTestF_8p correctly True\n",
      "\n",
      "Testing aStarSearch(1, 2, 3, 4, 5, 6, 7, 0, 8],\n",
      "                     actionsF_8p, takeActionF_8p,\n",
      "                     lambda s: goalTestF_8p(s, [0, 2, 3, 1, 4,  6, 7, 5, 8]),\n",
      "                     lambda s: h1_8p(s, [0, 2, 3, 1, 4,  6, 7, 5, 8]))\n",
      "\n",
      "--- 20/20 points. Your search correctly returned ([[1, 2, 3, 4, 5, 6, 7, 0, 8], [1, 2, 3, 4, 0, 6, 7, 5, 8], [1, 2, 3, 0, 4, 6, 7, 5, 8], [0, 2, 3, 1, 4, 6, 7, 5, 8]], 3)\n",
      "\n",
      "Testing iterativeDeepeningSearch([1, 2, 3, 4, 5, 6, 7, 0, 8], \n",
      "                                 [0, 2, 3, 1, 4,  6, 7, 5, 8],\n",
      "                                 actionsF_8p, takeActionF_8p, 10)\n",
      "\n",
      "--- 15/15 points. Your search correctly returned [[1, 2, 3, 4, 5, 6, 7, 0, 8], [1, 2, 3, 4, 0, 6, 7, 5, 8], [1, 2, 3, 0, 4, 6, 7, 5, 8], [0, 2, 3, 1, 4, 6, 7, 5, 8]]\n",
      "\n",
      "Testing iterativeDeepeningSearch([5, 2, 8, 0, 1, 4, 3, 7, 6], \n",
      "                                 [0, 2, 3, 1, 4,  6, 7, 5, 8],\n",
      "                                 actionsF_8p, takeActionF_8p, 10)\n",
      "\n",
      "--- 15/15 points. Your search correctly returned cutoff\n",
      "\n",
      "Testing ebf(200, 6, 0.1)\n",
      "\n",
      "--- 15/15 points. Your call to ebf correctly returned 2.185373306274414\n",
      "\n",
      "3 Grade is 80/80\n",
      "\n",
      "Up to 20 more points will be given based on the quality of your descriptions of the method and the results.\n"
     ]
    }
   ],
   "source": [
    "%run -i A3grader.py"
   ]
  },
  {
   "cell_type": "markdown",
   "metadata": {},
   "source": [
    "## Extra Credit"
   ]
  },
  {
   "cell_type": "markdown",
   "metadata": {},
   "source": [
    "Implemented in my runExperiment method.  \n"
   ]
  }
 ],
 "metadata": {
  "anaconda-cloud": {},
  "kernelspec": {
   "display_name": "Python 3",
   "language": "python",
   "name": "python3"
  },
  "language_info": {
   "codemirror_mode": {
    "name": "ipython",
    "version": 3
   },
   "file_extension": ".py",
   "mimetype": "text/x-python",
   "name": "python",
   "nbconvert_exporter": "python",
   "pygments_lexer": "ipython3",
   "version": "3.6.5"
  }
 },
 "nbformat": 4,
 "nbformat_minor": 2
}

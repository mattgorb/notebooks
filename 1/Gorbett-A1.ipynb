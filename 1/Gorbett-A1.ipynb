{
 "cells": [
  {
   "cell_type": "markdown",
   "metadata": {},
   "source": [
    "# Assignment 1: Uninformed Search"
   ]
  },
  {
   "cell_type": "markdown",
   "metadata": {},
   "source": [
    "Matt Gorbett\n",
    "\n",
    "## Overview"
   ]
  },
  {
   "cell_type": "markdown",
   "metadata": {},
   "source": [
    "\n",
    "For this assignment, I implemented a breadthFirstSearch and depthFirstSearch algorithm described in \n",
    "[this](http://nbviewer.jupyter.org/url/www.cs.colostate.edu/~anderson/cs440/notebooks/03%20Problem-Solving%20Agents.ipynb) notebook.\n",
    "\n",
    "The top function in this notebook, searchNodes, implements both breadth and depth first algorithms.  By passing in a boolean variable titled breadthFirst, I am able to signify which search to run.  searchNodes' 3 other arguments are the startState, endState, and successorsf function, which are all input requirements to their respective functions, breadthFirstSearch and depthFirstSearch.  \n",
    "\n",
    "breadthFirstSearch and depthFirstSearch both take in a \"successor\" function, which have been predefined in the example code as successorsf and gridSuccessors.  I also implemented a camelSuccessorsf function for extra credit. "
   ]
  },
  {
   "cell_type": "markdown",
   "metadata": {},
   "source": [
    "### Notes"
   ]
  },
  {
   "cell_type": "markdown",
   "metadata": {},
   "source": [
    "-  This was an interesting implementation of these algorithms.  I first tried out my own separate algorithms to see if I could write the functions with the correct number of steps for the output.  I tried this out for many hours before moving on to the main combined function.\n",
    "\n",
    "\n",
    "-  The notes on writing the searchNodes function were very helpful.  I was able to write these mostly step by step, with a bunch of testing in between to make sure the step ran correctly.  \n",
    "\n",
    "\n",
    "-  One line that was particularly tricky was implementing the tupling.  Iterating through both children and currentState[0] inline to add into a tuple object was a little hard for me to figure out.  \n",
    "\n",
    "\n",
    "-  I had a lot of fun with trying out the CamelSuccessfors extra credit, however I wasn't able to get the correct number of steps.  I was happy getting the function to run correctly and lower the number of steps taken by more than half.  The function seemed clean since it took in each case and built out the tree completely.  \n",
    "\n",
    "\n"
   ]
  },
  {
   "cell_type": "code",
   "execution_count": 134,
   "metadata": {},
   "outputs": [],
   "source": [
    "def searchNodes(startState, goalState, successorsf, breadthFirst):\n",
    "\texpanded={}\n",
    "\tunExpanded=[(startState, None)] #add start to the unExpanded list\n",
    "\tif(startState==goalState):#no need to iterate through list if startState=goalState\n",
    "\t\treturn [startState]\n",
    "\twhile unExpanded: \n",
    "\t\tcurrentState=unExpanded.pop() #pop from the end\n",
    "\t\tchildren=[child for child in successorsf(currentState[0]) if child!=currentState[0]] #get all children only if the child is not in the currentState\n",
    "\t\tcleanup=[]\n",
    "\t\tfor child in children:\n",
    "\t\t\tif child not in expanded and (child,currentState) not in unExpanded and child!=currentState: #check if child is in expanded, unexpanded and make sure its not the currentState\n",
    "\t\t\t\tcleanup.append(child)\n",
    "\t\tchildren=cleanup\n",
    "\t\tfor child in children:\n",
    "\t\t\texpanded[child]=currentState[0]#child parent/child to list that points the child to its parent\n",
    "\n",
    "\t\tif(currentState[0] not in expanded):\n",
    "\t\t\texpanded[currentState[0]] = currentState[1]\n",
    "\t\t\n",
    "\t\tif(goalState in children):\n",
    "\t\t\tsolution=[currentState[0],goalState]\n",
    "\t\t\tcurrentState=expanded[currentState[0]]\n",
    "\t\t\twhile currentState:\n",
    "\t\t\t\tsolution.insert(0,currentState)\n",
    "\t\t\t\tcurrentState=expanded[currentState] #set child to parent and keep iterating up\n",
    "\t\t\treturn solution\n",
    "\n",
    "\t\t\n",
    "\t\tchildren.sort()\n",
    "\t\tchildren.reverse()#handy function to reverse order of list\n",
    "\t\tchildren_tupled=[(child,parent) for child in children for parent in currentState[0] ] #create child and parent tuples\n",
    "\t\t\n",
    "\t\tif(breadthFirst): \n",
    "\t\t\tunExpanded=children_tupled+unExpanded#add tuples to front of list\n",
    "\t\telse:\n",
    "\t\t\tunExpanded.extend(children_tupled)#depthFirst, add tuples to end of list\n",
    "\treturn \"Goal not found\"\n",
    "\n",
    "\n",
    "def breadthFirstSearch(startState, goalState, successorsf):\n",
    "    return searchNodes(startState, goalState, successorsf, True)\n",
    "\n",
    "\n",
    "def depthFirstSearch(startState, goalState, successorsf):\n",
    "    return searchNodes(startState, goalState, successorsf, False)"
   ]
  },
  {
   "cell_type": "markdown",
   "metadata": {},
   "source": [
    "# Test runs"
   ]
  },
  {
   "cell_type": "markdown",
   "metadata": {},
   "source": [
    "These are the example runs I ran from the original notebook.  I added the a->Denver test case to test that the script would work.  "
   ]
  },
  {
   "cell_type": "code",
   "execution_count": 135,
   "metadata": {},
   "outputs": [
    {
     "data": {
      "text/plain": [
       "{'a': ['b', 'c', 'd'],\n",
       " 'b': ['e', 'f', 'g'],\n",
       " 'c': ['a', 'h', 'i'],\n",
       " 'd': ['j', 'z'],\n",
       " 'e': ['k', 'l'],\n",
       " 'g': ['m'],\n",
       " 'k': ['z']}"
      ]
     },
     "execution_count": 135,
     "metadata": {},
     "output_type": "execute_result"
    }
   ],
   "source": [
    "successors = {'a':  ['b', 'c', 'd'],\n",
    "              'b':  ['e', 'f', 'g'],\n",
    "              'c':  ['a', 'h', 'i'],\n",
    "              'd':  ['j', 'z'],\n",
    "              'e':  ['k', 'l'],\n",
    "              'g':  ['m'],\n",
    "              'k':  ['z']}\n",
    "successors"
   ]
  },
  {
   "cell_type": "code",
   "execution_count": 136,
   "metadata": {
    "collapsed": true
   },
   "outputs": [],
   "source": [
    "import copy\n",
    "\n",
    "def successorsf(state):\n",
    "    return copy.copy(successors.get(state, []))"
   ]
  },
  {
   "cell_type": "code",
   "execution_count": 137,
   "metadata": {},
   "outputs": [
    {
     "data": {
      "text/plain": [
       "['k', 'l']"
      ]
     },
     "execution_count": 137,
     "metadata": {},
     "output_type": "execute_result"
    }
   ],
   "source": [
    "successorsf('e')"
   ]
  },
  {
   "cell_type": "code",
   "execution_count": 138,
   "metadata": {},
   "outputs": [
    {
     "name": "stdout",
     "output_type": "stream",
     "text": [
      "Breadth-first\n",
      "('path from a to a is', ['a'])\n",
      "('path from a to m is', ['a', 'b', 'g', 'm'])\n",
      "('path from a to z is', ['a', 'd', 'z'])\n",
      "('path from a to b is', ['a', 'b'])\n",
      "('path from a to denver is', 'Goal not found')\n"
     ]
    }
   ],
   "source": [
    "print('Breadth-first')\n",
    "print('path from a to a is', breadthFirstSearch('a', 'a', successorsf))\n",
    "print('path from a to m is', breadthFirstSearch('a', 'm', successorsf))\n",
    "print('path from a to z is', breadthFirstSearch('a', 'z', successorsf))\n",
    "print('path from a to b is', breadthFirstSearch('a', 'b', successorsf))\n",
    "print('path from a to denver is', breadthFirstSearch('a', 'denver', successorsf))  #from grading script"
   ]
  },
  {
   "cell_type": "code",
   "execution_count": 139,
   "metadata": {},
   "outputs": [
    {
     "name": "stdout",
     "output_type": "stream",
     "text": [
      "Depth-first\n",
      "('path from a to a is', ['a'])\n",
      "('path from a to m is', ['a', 'b', 'g', 'm'])\n",
      "('path from a to z is', ['a', 'b', 'e', 'k', 'z'])\n",
      "('path from a to b is', ['a', 'b'])\n",
      "('path from a to denver is', 'Goal not found')\n"
     ]
    }
   ],
   "source": [
    "print('Depth-first')\n",
    "print('path from a to a is', depthFirstSearch('a', 'a', successorsf))\n",
    "print('path from a to m is', depthFirstSearch('a', 'm', successorsf))\n",
    "print('path from a to z is', depthFirstSearch('a', 'z', successorsf))\n",
    "print('path from a to b is', depthFirstSearch('a', 'b', successorsf))\n",
    "print('path from a to denver is', depthFirstSearch('a', 'denver', successorsf)) #from grading script"
   ]
  },
  {
   "cell_type": "markdown",
   "metadata": {},
   "source": [
    "Let's try a navigation problem around a grid of size 10 x 10. Rows and columns will be indexed from 0 to 9.\n",
    "\n",
    "The following function takes the input state and returns all possible states."
   ]
  },
  {
   "cell_type": "code",
   "execution_count": 140,
   "metadata": {
    "collapsed": true
   },
   "outputs": [],
   "source": [
    "def gridSuccessors(state):\n",
    "    row, col = state\n",
    "    # succs will be list of tuples () rather than list of lists [] because state must\n",
    "    # be an immutable type to serve as a key in dictionary of expanded nodes\n",
    "    succs = []\n",
    "    for r in [-1, 0, 1]:   #check each row\n",
    "        for c in [-1, 0, 1]:  # check in each col\n",
    "            newr = row + r\n",
    "            newc = col + c\n",
    "            if 0 <= newr <= 9 and 0 <= newc <= 9:  \n",
    "                succs.append( (newr, newc) )\n",
    "    return succs"
   ]
  },
  {
   "cell_type": "code",
   "execution_count": 141,
   "metadata": {},
   "outputs": [
    {
     "data": {
      "text/plain": [
       "[(2, 3), (2, 4), (2, 5), (3, 3), (3, 4), (3, 5), (4, 3), (4, 4), (4, 5)]"
      ]
     },
     "execution_count": 141,
     "metadata": {},
     "output_type": "execute_result"
    }
   ],
   "source": [
    "gridSuccessors([3,4])"
   ]
  },
  {
   "cell_type": "code",
   "execution_count": 142,
   "metadata": {},
   "outputs": [
    {
     "data": {
      "text/plain": [
       "[(2, 8), (2, 9), (3, 8), (3, 9), (4, 8), (4, 9)]"
      ]
     },
     "execution_count": 142,
     "metadata": {},
     "output_type": "execute_result"
    }
   ],
   "source": [
    "gridSuccessors([3,9])"
   ]
  },
  {
   "cell_type": "code",
   "execution_count": 143,
   "metadata": {},
   "outputs": [
    {
     "data": {
      "text/plain": [
       "[(0, 0), (0, 1), (1, 0), (1, 1)]"
      ]
     },
     "execution_count": 143,
     "metadata": {},
     "output_type": "execute_result"
    }
   ],
   "source": [
    "gridSuccessors([0,0])"
   ]
  },
  {
   "cell_type": "code",
   "execution_count": 144,
   "metadata": {},
   "outputs": [
    {
     "name": "stdout",
     "output_type": "stream",
     "text": [
      "Breadth-first\n",
      "('path from (0, 0) to (9, 9) is', [(0, 0), (1, 1), (2, 2), (3, 3), (4, 4), (5, 5), (6, 6), (7, 7), (8, 8), (9, 9)])\n"
     ]
    }
   ],
   "source": [
    "print('Breadth-first')\n",
    "print('path from (0, 0) to (9, 9) is', breadthFirstSearch((0, 0), (9, 9), gridSuccessors))"
   ]
  },
  {
   "cell_type": "code",
   "execution_count": 145,
   "metadata": {},
   "outputs": [
    {
     "name": "stdout",
     "output_type": "stream",
     "text": [
      "Depth-first\n",
      "('path from (0, 0) to (9, 9) is', [(0, 0), (0, 1), (0, 2), (0, 3), (0, 4), (0, 5), (0, 6), (0, 7), (0, 8), (1, 9), (2, 8), (2, 7), (2, 6), (2, 5), (2, 4), (2, 3), (2, 2), (2, 1), (3, 0), (4, 0), (5, 0), (6, 0), (7, 0), (8, 0), (9, 1), (8, 2), (7, 2), (6, 2), (5, 2), (4, 3), (4, 4), (4, 5), (4, 6), (4, 7), (4, 8), (5, 9), (6, 8), (6, 7), (6, 6), (6, 5), (7, 4), (8, 4), (9, 5), (8, 6), (8, 7), (8, 8), (9, 9)])\n"
     ]
    }
   ],
   "source": [
    "print('Depth-first')\n",
    "print('path from (0, 0) to (9, 9) is', depthFirstSearch((0, 0), (9, 9), gridSuccessors))"
   ]
  },
  {
   "cell_type": "markdown",
   "metadata": {},
   "source": [
    "Let's plot the paths."
   ]
  },
  {
   "cell_type": "code",
   "execution_count": 146,
   "metadata": {},
   "outputs": [
    {
     "data": {
      "text/plain": [
       "[(0, 0),\n",
       " (0, 1),\n",
       " (0, 2),\n",
       " (0, 3),\n",
       " (0, 4),\n",
       " (0, 5),\n",
       " (0, 6),\n",
       " (0, 7),\n",
       " (0, 8),\n",
       " (1, 9),\n",
       " (2, 8),\n",
       " (2, 7),\n",
       " (2, 6),\n",
       " (2, 5),\n",
       " (2, 4),\n",
       " (2, 3),\n",
       " (2, 2),\n",
       " (2, 1),\n",
       " (3, 0),\n",
       " (4, 0),\n",
       " (5, 0),\n",
       " (6, 0),\n",
       " (7, 0),\n",
       " (8, 0),\n",
       " (9, 1),\n",
       " (8, 2),\n",
       " (7, 2),\n",
       " (6, 2),\n",
       " (5, 2),\n",
       " (4, 3),\n",
       " (4, 4),\n",
       " (4, 5),\n",
       " (4, 6),\n",
       " (4, 7),\n",
       " (4, 8),\n",
       " (5, 9),\n",
       " (6, 8),\n",
       " (6, 7),\n",
       " (6, 6),\n",
       " (6, 5),\n",
       " (7, 4),\n",
       " (8, 4),\n",
       " (9, 5),\n",
       " (8, 6),\n",
       " (8, 7),\n",
       " (8, 8),\n",
       " (9, 9)]"
      ]
     },
     "execution_count": 146,
     "metadata": {},
     "output_type": "execute_result"
    }
   ],
   "source": [
    "path = depthFirstSearch((0, 0), (9, 9), gridSuccessors)\n",
    "path"
   ]
  },
  {
   "cell_type": "markdown",
   "metadata": {},
   "source": [
    "Now, we have the path to goal state. To plot this path we must extract the first value in each tuple and put them in a list called `rows` to use as the $y$ coordinate of each point, and build a second list called `cols` of second values."
   ]
  },
  {
   "cell_type": "code",
   "execution_count": 147,
   "metadata": {
    "collapsed": true
   },
   "outputs": [],
   "source": [
    "import matplotlib.pyplot as plt\n",
    "%matplotlib inline"
   ]
  },
  {
   "cell_type": "code",
   "execution_count": 148,
   "metadata": {},
   "outputs": [
    {
     "data": {
      "image/png": "[encoded data removed]",
      "text/plain": [
       "<Figure size 432x288 with 1 Axes>"
      ]
     },
     "metadata": {},
     "output_type": "display_data"
    }
   ],
   "source": [
    "rows = [location[0] for location in path]\n",
    "cols = [location[1] for location in path]\n",
    "plt.plot(rows,cols,'o-');"
   ]
  },
  {
   "cell_type": "code",
   "execution_count": 149,
   "metadata": {},
   "outputs": [
    {
     "name": "stdout",
     "output_type": "stream",
     "text": [
      "[(0, 0), (1, 1), (2, 2), (3, 3), (4, 4), (5, 5), (6, 6), (7, 7), (8, 8), (9, 9)]\n"
     ]
    },
    {
     "data": {
      "image/png": "[encoded data removed]",
      "text/plain": [
       "<Figure size 432x288 with 1 Axes>"
      ]
     },
     "metadata": {},
     "output_type": "display_data"
    }
   ],
   "source": [
    "path = breadthFirstSearch((0, 0), (9, 9), gridSuccessors)\n",
    "print(path)\n",
    "rows = [location[0] for location in path]\n",
    "cols = [location[1] for location in path]\n",
    "plt.plot(rows,cols,'o-');"
   ]
  },
  {
   "cell_type": "code",
   "execution_count": 150,
   "metadata": {},
   "outputs": [
    {
     "data": {
      "text/plain": [
       "'Goal not found'"
      ]
     },
     "execution_count": 150,
     "metadata": {},
     "output_type": "execute_result"
    }
   ],
   "source": [
    "depthFirstSearch((0, 0), (9, 20), gridSuccessors)"
   ]
  },
  {
   "cell_type": "markdown",
   "metadata": {},
   "source": [
    "### Other functions\n",
    "\n",
    "These were some initial functions I tried out to get reacquainted with breadth first and depth first search.  I tried out several different methods which worked on the base successorsf function, these were my last versions of these algorithms.  "
   ]
  },
  {
   "cell_type": "code",
   "execution_count": 151,
   "metadata": {
    "collapsed": true
   },
   "outputs": [],
   "source": [
    "#original breadth first search attempt\n",
    "def breadthFirstSearch_original(startState, goalState, successorsf):\n",
    "\tqueue = [startState]\n",
    "\tparent = {} \n",
    "\tparent[startState]= 0    \n",
    "\tvisited=[startState]\n",
    "\twhile queue:\n",
    "\t\tnode=queue.pop(0)\n",
    "\t\tchildren=successorsf(node)\n",
    "\t\tfor child in children:\n",
    "\t\t\tif child not in visited:\n",
    "\t\t\t\tqueue.append(child)\n",
    "\t\t\t\tvisited.append(child)\n",
    "\t\t\t\tparent[child]= node\n",
    "\t\t\t\tif(child==goalState):\n",
    "\t\t\t\t\tholder=child\n",
    "\t\t\t\t\tbreak;\n",
    "\tsteps_list=[]\t\n",
    "\twhile holder!=0:\n",
    "\t\tsteps_list.append(holder)\n",
    "\t\tholder=parent[holder]\n",
    "\treturn list(reversed(steps_list))\n",
    "\t\n",
    "# original depth first search attempt\n",
    "def depthFirstSearch_original(startState, goalState, successorsf):\n",
    "    parent = {}\n",
    "    parent[startState]= 0 \n",
    "    parent = dfs(successorsf, startState, parent, goalState)\n",
    "    steps_list=[]\n",
    "    print(parent)\n",
    "    holder=goalState\n",
    "    while holder!=0:\n",
    "        steps_list.append(holder)\n",
    "        holder=parent[holder]\n",
    "    return list(reversed(steps_list))\n",
    "\n",
    "\n",
    "\n",
    "def dfs(startState, goalState, successorsf):\n",
    "\tparent = {}\n",
    "\tstack=[]\n",
    "\tparent[startState]= 0 \n",
    "\tstack.append(startState);\n",
    "\tvisited=[startState]\n",
    "\twhile(len(stack)>0):\n",
    "\t\tchildren= successorsf(stack[-1])\n",
    "\t\thasUnvisitedChild=next((child for child in children if child not in visited), \"None\")\t\t\t\n",
    "\t\tif(hasUnvisitedChild!=\"None\"):\n",
    "\t\t\tindex=children.index(hasUnvisitedChild)\n",
    "\t\t\tif(children[index]==goalState):\n",
    "\t\t\t\tbreak;\n",
    "\t\t\tvisited.append(children[index])\n",
    "\t\t\tstack.append(children[index])\n",
    "\t\telse:\n",
    "\t\t\tstack.pop()\n",
    "\treturn stack"
   ]
  },
  {
   "cell_type": "code",
   "execution_count": 152,
   "metadata": {
    "collapsed": true
   },
   "outputs": [],
   "source": [
    "def breadthFirstSearch_First(startState, goalState, successorsf):\n",
    "\tqueue = [startState]\n",
    "\tparent = {} \n",
    "\tparent[startState]= 0    \n",
    "\tvisited=[startState]\n",
    "\twhile queue:\n",
    "\t\tnode=queue.pop(0)\n",
    "\t\tchildren=successorsf(node)\n",
    "\t\tfor child in children:\n",
    "\t\t\tsuccessorsf(child).append(node)\n",
    "\t\tfor child in children:\n",
    "\t\t\tif child not in visited:\n",
    "\t\t\t\tqueue.append(child)\n",
    "\t\t\t\tvisited.append(child)\n",
    "\t\t\t\tparent[child]= node\n",
    "\t\t\t\tif(child==goalState):\n",
    "\t\t\t\t\tholder=child\n",
    "\t\t\t\t\tbreak;\n",
    "\tsteps_list=[]\t\n",
    "\twhile holder!=0:\n",
    "\t\tsteps_list.append(holder)\n",
    "\t\tholder=parent[holder]\n",
    "\treturn list(reversed(steps_list))"
   ]
  },
  {
   "cell_type": "markdown",
   "metadata": {},
   "source": [
    "# Extra Credit\n",
    "\n",
    "For extra credit, use your functions to solve the Camels Puzzle, described at [Logic Puzzles](http://www.folj.com/puzzles/).\n",
    "The following code illustrates one possible state representation and shows results of a breadth-first and a dept-first search.  You must define a new successors function, called `camelSuccessorsf`. "
   ]
  },
  {
   "cell_type": "code",
   "execution_count": 153,
   "metadata": {
    "collapsed": true
   },
   "outputs": [],
   "source": [
    "camelStartState=('R', 'R', 'R', 'R', ' ', 'L', 'L', 'L', 'L')\n",
    "camelGoalState=('L', 'L', 'L', 'L', ' ', 'R', 'R', 'R', 'R')\n",
    "\n",
    "'''Keeping this as a script-y function to illustrate logic used. \n",
    "Depending on where the space is, I create new states by flipping the space with its neighbors.  \n",
    "For most states, four new copies can be made by flipping the space with its neighbors from \n",
    "index-2 to index+2.  Exceptions are made when the space gets closer to the end.  \n",
    "''' \n",
    "def camelSuccessorsf(state):\n",
    "\n",
    "\tempty_loc=state.index(' ')\n",
    "\n",
    "\tcopy1=list(state)\n",
    "\tcopy2=list(state)\n",
    "\tcopy3=list(state)\n",
    "\tcopy4=list(state)\n",
    "\tif(empty_loc==0):\n",
    "\t\tcopy1[empty_loc+2], copy1[empty_loc] = copy1[empty_loc], copy1[empty_loc+2]\n",
    "\t\treturn [tuple(copy1)]\n",
    "\n",
    "\telif(empty_loc ==1):\n",
    "\t\tcopy1[empty_loc-1], copy1[empty_loc] = copy1[empty_loc], copy1[empty_loc-1]\n",
    "\t\tcopy2[empty_loc+1], copy2[empty_loc] = copy2[empty_loc], copy2[empty_loc+1]\n",
    "\t\tcopy3[empty_loc+2], copy3[empty_loc] = copy3[empty_loc], copy3[empty_loc+2]\n",
    "\t\treturn tuple(copy1),tuple(copy2),tuple(copy3)\n",
    "\n",
    "\telif(empty_loc==7):\n",
    "\t\tcopy1[empty_loc-1], copy1[empty_loc] = copy1[empty_loc], copy1[empty_loc-1]\n",
    "\t\tcopy2[empty_loc+1], copy2[empty_loc] = copy2[empty_loc], copy2[empty_loc+1]\n",
    "\t\tcopy3[empty_loc-2], copy3[empty_loc] = copy3[empty_loc], copy3[empty_loc-2]\n",
    "\t\treturn tuple(copy3),tuple(copy1),tuple(copy2)\n",
    "\telif(empty_loc ==8):\n",
    "\t\tcopy1[empty_loc-2], copy1[empty_loc] = copy1[empty_loc], copy1[empty_loc-2]\n",
    "\t\treturn [tuple(copy1)]\n",
    "\n",
    "\telse:\n",
    "\t\tcopy1[empty_loc-1], copy1[empty_loc] = copy1[empty_loc], copy1[empty_loc-1]\n",
    "\t\tcopy2[empty_loc+1], copy2[empty_loc] = copy2[empty_loc], copy2[empty_loc+1]\n",
    "\t\tcopy3[empty_loc+2], copy3[empty_loc] = copy3[empty_loc], copy3[empty_loc+2]\n",
    "\t\tcopy4[empty_loc-2], copy4[empty_loc] = copy4[empty_loc], copy4[empty_loc-2]\n",
    "\t\treturn tuple(copy4),tuple(copy1),tuple(copy2), tuple(copy3)\n"
   ]
  },
  {
   "cell_type": "code",
   "execution_count": 154,
   "metadata": {},
   "outputs": [
    {
     "data": {
      "text/plain": [
       "('R', 'R', 'R', 'R', ' ', 'L', 'L', 'L', 'L')"
      ]
     },
     "execution_count": 154,
     "metadata": {},
     "output_type": "execute_result"
    }
   ],
   "source": [
    "camelStartState"
   ]
  },
  {
   "cell_type": "code",
   "execution_count": 155,
   "metadata": {},
   "outputs": [
    {
     "data": {
      "text/plain": [
       "('L', 'L', 'L', 'L', ' ', 'R', 'R', 'R', 'R')"
      ]
     },
     "execution_count": 155,
     "metadata": {},
     "output_type": "execute_result"
    }
   ],
   "source": [
    "camelGoalState"
   ]
  },
  {
   "cell_type": "code",
   "execution_count": 156,
   "metadata": {},
   "outputs": [
    {
     "data": {
      "text/plain": [
       "(('R', 'R', ' ', 'R', 'R', 'L', 'L', 'L', 'L'),\n",
       " ('R', 'R', 'R', ' ', 'R', 'L', 'L', 'L', 'L'),\n",
       " ('R', 'R', 'R', 'R', 'L', ' ', 'L', 'L', 'L'),\n",
       " ('R', 'R', 'R', 'R', 'L', 'L', ' ', 'L', 'L'))"
      ]
     },
     "execution_count": 156,
     "metadata": {},
     "output_type": "execute_result"
    }
   ],
   "source": [
    "camelSuccessorsf(camelStartState)"
   ]
  },
  {
   "cell_type": "code",
   "execution_count": 157,
   "metadata": {},
   "outputs": [
    {
     "name": "stdout",
     "output_type": "stream",
     "text": [
      "('R', 'R', ' ', 'R', 'R', 'L', 'L', 'L', 'L')\n"
     ]
    },
    {
     "data": {
      "text/plain": [
       "((' ', 'R', 'R', 'R', 'R', 'L', 'L', 'L', 'L'),\n",
       " ('R', ' ', 'R', 'R', 'R', 'L', 'L', 'L', 'L'),\n",
       " ('R', 'R', 'R', ' ', 'R', 'L', 'L', 'L', 'L'),\n",
       " ('R', 'R', 'R', 'R', ' ', 'L', 'L', 'L', 'L'))"
      ]
     },
     "execution_count": 157,
     "metadata": {},
     "output_type": "execute_result"
    }
   ],
   "source": [
    "children = camelSuccessorsf(camelStartState)\n",
    "print(children[0])\n",
    "camelSuccessorsf(children[0])"
   ]
  },
  {
   "cell_type": "code",
   "execution_count": 158,
   "metadata": {},
   "outputs": [
    {
     "name": "stdout",
     "output_type": "stream",
     "text": [
      "('Breadth-first solution: (', 27, 'steps)')\n",
      "('R', 'R', 'R', 'R', ' ', 'L', 'L', 'L', 'L')\n",
      "('R', 'R', 'R', ' ', 'R', 'L', 'L', 'L', 'L')\n",
      "('R', 'R', 'R', 'L', 'R', ' ', 'L', 'L', 'L')\n",
      "('R', 'R', 'R', 'L', 'R', 'L', ' ', 'L', 'L')\n",
      "('R', 'R', 'R', 'L', ' ', 'L', 'R', 'L', 'L')\n",
      "('R', 'R', ' ', 'L', 'R', 'L', 'R', 'L', 'L')\n",
      "('R', ' ', 'R', 'L', 'R', 'L', 'R', 'L', 'L')\n",
      "('R', 'L', 'R', ' ', 'R', 'L', 'R', 'L', 'L')\n",
      "('R', 'L', 'R', 'L', 'R', ' ', 'R', 'L', 'L')\n",
      "('R', 'L', 'R', 'L', 'R', 'L', 'R', ' ', 'L')\n",
      "('R', 'L', 'R', 'L', 'R', 'L', 'R', 'L', ' ')\n",
      "('R', 'L', 'R', 'L', 'R', 'L', ' ', 'L', 'R')\n",
      "('R', 'L', 'R', 'L', ' ', 'L', 'R', 'L', 'R')\n",
      "('R', 'L', ' ', 'L', 'R', 'L', 'R', 'L', 'R')\n",
      "('R', ' ', 'L', 'L', 'R', 'L', 'R', 'L', 'R')\n",
      "(' ', 'R', 'L', 'L', 'R', 'L', 'R', 'L', 'R')\n",
      "('L', 'R', ' ', 'L', 'R', 'L', 'R', 'L', 'R')\n",
      "('L', ' ', 'R', 'L', 'R', 'L', 'R', 'L', 'R')\n",
      "('L', 'L', 'R', ' ', 'R', 'L', 'R', 'L', 'R')\n",
      "('L', 'L', 'R', 'L', 'R', ' ', 'R', 'L', 'R')\n",
      "('L', 'L', 'R', 'L', 'R', 'L', 'R', ' ', 'R')\n",
      "('L', 'L', 'R', 'L', 'R', 'L', ' ', 'R', 'R')\n",
      "('L', 'L', 'R', 'L', ' ', 'L', 'R', 'R', 'R')\n",
      "('L', 'L', ' ', 'L', 'R', 'L', 'R', 'R', 'R')\n",
      "('L', 'L', 'L', ' ', 'R', 'L', 'R', 'R', 'R')\n",
      "('L', 'L', 'L', 'L', 'R', ' ', 'R', 'R', 'R')\n",
      "('L', 'L', 'L', 'L', ' ', 'R', 'R', 'R', 'R')\n",
      "('Depth-first solution: (', 119, 'steps)')\n",
      "('R', 'R', 'R', 'R', ' ', 'L', 'L', 'L', 'L')\n",
      "('R', 'R', 'R', ' ', 'R', 'L', 'L', 'L', 'L')\n",
      "('R', 'R', 'R', 'L', 'R', ' ', 'L', 'L', 'L')\n",
      "('R', 'R', 'R', 'L', ' ', 'R', 'L', 'L', 'L')\n",
      "('R', 'R', ' ', 'L', 'R', 'R', 'L', 'L', 'L')\n",
      "('R', ' ', 'R', 'L', 'R', 'R', 'L', 'L', 'L')\n",
      "('R', 'L', 'R', ' ', 'R', 'R', 'L', 'L', 'L')\n",
      "('R', 'L', ' ', 'R', 'R', 'R', 'L', 'L', 'L')\n",
      "('R', ' ', 'L', 'R', 'R', 'R', 'L', 'L', 'L')\n",
      "(' ', 'R', 'L', 'R', 'R', 'R', 'L', 'L', 'L')\n",
      "('L', 'R', ' ', 'R', 'R', 'R', 'L', 'L', 'L')\n",
      "('L', 'R', 'R', ' ', 'R', 'R', 'L', 'L', 'L')\n",
      "('L', 'R', 'R', 'R', 'R', ' ', 'L', 'L', 'L')\n",
      "('L', 'R', 'R', 'R', 'R', 'L', ' ', 'L', 'L')\n",
      "('L', 'R', 'R', 'R', ' ', 'L', 'R', 'L', 'L')\n",
      "('L', 'R', ' ', 'R', 'R', 'L', 'R', 'L', 'L')\n",
      "('L', ' ', 'R', 'R', 'R', 'L', 'R', 'L', 'L')\n",
      "(' ', 'L', 'R', 'R', 'R', 'L', 'R', 'L', 'L')\n",
      "('R', 'L', ' ', 'R', 'R', 'L', 'R', 'L', 'L')\n",
      "('R', ' ', 'L', 'R', 'R', 'L', 'R', 'L', 'L')\n",
      "('R', 'R', 'L', ' ', 'R', 'L', 'R', 'L', 'L')\n",
      "('R', 'R', ' ', 'L', 'R', 'L', 'R', 'L', 'L')\n",
      "('R', 'R', 'R', 'L', ' ', 'L', 'R', 'L', 'L')\n",
      "('R', 'R', 'R', 'L', 'L', ' ', 'R', 'L', 'L')\n",
      "('R', 'R', 'R', 'L', 'L', 'L', 'R', ' ', 'L')\n",
      "('R', 'R', 'R', 'L', 'L', 'L', ' ', 'R', 'L')\n",
      "('R', 'R', 'R', 'L', ' ', 'L', 'L', 'R', 'L')\n",
      "('R', 'R', ' ', 'L', 'R', 'L', 'L', 'R', 'L')\n",
      "('R', ' ', 'R', 'L', 'R', 'L', 'L', 'R', 'L')\n",
      "('R', 'L', 'R', ' ', 'R', 'L', 'L', 'R', 'L')\n",
      "('R', 'L', ' ', 'R', 'R', 'L', 'L', 'R', 'L')\n",
      "('R', ' ', 'L', 'R', 'R', 'L', 'L', 'R', 'L')\n",
      "(' ', 'R', 'L', 'R', 'R', 'L', 'L', 'R', 'L')\n",
      "('L', 'R', ' ', 'R', 'R', 'L', 'L', 'R', 'L')\n",
      "('L', 'R', 'R', ' ', 'R', 'L', 'L', 'R', 'L')\n",
      "('L', 'R', 'R', 'L', 'R', ' ', 'L', 'R', 'L')\n",
      "('L', 'R', 'R', 'L', ' ', 'R', 'L', 'R', 'L')\n",
      "('L', 'R', ' ', 'L', 'R', 'R', 'L', 'R', 'L')\n",
      "('L', ' ', 'R', 'L', 'R', 'R', 'L', 'R', 'L')\n",
      "(' ', 'L', 'R', 'L', 'R', 'R', 'L', 'R', 'L')\n",
      "('R', 'L', ' ', 'L', 'R', 'R', 'L', 'R', 'L')\n",
      "('R', 'L', 'L', ' ', 'R', 'R', 'L', 'R', 'L')\n",
      "('R', 'L', 'L', 'R', ' ', 'R', 'L', 'R', 'L')\n",
      "('R', 'L', ' ', 'R', 'L', 'R', 'L', 'R', 'L')\n",
      "('R', ' ', 'L', 'R', 'L', 'R', 'L', 'R', 'L')\n",
      "(' ', 'R', 'L', 'R', 'L', 'R', 'L', 'R', 'L')\n",
      "('L', 'R', ' ', 'R', 'L', 'R', 'L', 'R', 'L')\n",
      "('L', 'R', 'L', 'R', ' ', 'R', 'L', 'R', 'L')\n",
      "('L', 'R', 'L', 'R', 'L', 'R', ' ', 'R', 'L')\n",
      "('L', 'R', 'L', 'R', 'L', ' ', 'R', 'R', 'L')\n",
      "('L', 'R', 'L', ' ', 'L', 'R', 'R', 'R', 'L')\n",
      "('L', ' ', 'L', 'R', 'L', 'R', 'R', 'R', 'L')\n",
      "('L', 'L', ' ', 'R', 'L', 'R', 'R', 'R', 'L')\n",
      "('L', 'L', 'L', 'R', ' ', 'R', 'R', 'R', 'L')\n",
      "('L', 'L', 'L', ' ', 'R', 'R', 'R', 'R', 'L')\n",
      "('L', 'L', ' ', 'L', 'R', 'R', 'R', 'R', 'L')\n",
      "('L', 'L', 'R', 'L', ' ', 'R', 'R', 'R', 'L')\n",
      "('L', 'L', 'R', 'L', 'R', ' ', 'R', 'R', 'L')\n",
      "('L', 'L', 'R', ' ', 'R', 'L', 'R', 'R', 'L')\n",
      "('L', ' ', 'R', 'L', 'R', 'L', 'R', 'R', 'L')\n",
      "(' ', 'L', 'R', 'L', 'R', 'L', 'R', 'R', 'L')\n",
      "('R', 'L', ' ', 'L', 'R', 'L', 'R', 'R', 'L')\n",
      "('R', 'L', 'L', ' ', 'R', 'L', 'R', 'R', 'L')\n",
      "('R', 'L', 'L', 'L', 'R', ' ', 'R', 'R', 'L')\n",
      "('R', 'L', 'L', 'L', ' ', 'R', 'R', 'R', 'L')\n",
      "('R', 'L', 'L', ' ', 'L', 'R', 'R', 'R', 'L')\n",
      "('R', 'L', 'L', 'R', 'L', ' ', 'R', 'R', 'L')\n",
      "('R', 'L', 'L', 'R', 'L', 'R', 'R', ' ', 'L')\n",
      "('R', 'L', 'L', 'R', 'L', 'R', 'R', 'L', ' ')\n",
      "('R', 'L', 'L', 'R', 'L', 'R', ' ', 'L', 'R')\n",
      "('R', 'L', 'L', 'R', ' ', 'R', 'L', 'L', 'R')\n",
      "('R', 'L', ' ', 'R', 'L', 'R', 'L', 'L', 'R')\n",
      "('R', ' ', 'L', 'R', 'L', 'R', 'L', 'L', 'R')\n",
      "(' ', 'R', 'L', 'R', 'L', 'R', 'L', 'L', 'R')\n",
      "('L', 'R', ' ', 'R', 'L', 'R', 'L', 'L', 'R')\n",
      "('L', 'R', 'L', 'R', ' ', 'R', 'L', 'L', 'R')\n",
      "('L', 'R', 'L', ' ', 'R', 'R', 'L', 'L', 'R')\n",
      "('L', ' ', 'L', 'R', 'R', 'R', 'L', 'L', 'R')\n",
      "('L', 'L', ' ', 'R', 'R', 'R', 'L', 'L', 'R')\n",
      "('L', 'L', 'R', ' ', 'R', 'R', 'L', 'L', 'R')\n",
      "('L', ' ', 'R', 'L', 'R', 'R', 'L', 'L', 'R')\n",
      "(' ', 'L', 'R', 'L', 'R', 'R', 'L', 'L', 'R')\n",
      "('R', 'L', ' ', 'L', 'R', 'R', 'L', 'L', 'R')\n",
      "('R', 'L', 'R', 'L', ' ', 'R', 'L', 'L', 'R')\n",
      "('R', 'L', 'R', 'L', 'L', 'R', ' ', 'L', 'R')\n",
      "('R', 'L', 'R', 'L', 'L', ' ', 'R', 'L', 'R')\n",
      "('R', 'L', 'R', ' ', 'L', 'L', 'R', 'L', 'R')\n",
      "('R', ' ', 'R', 'L', 'L', 'L', 'R', 'L', 'R')\n",
      "('R', 'R', ' ', 'L', 'L', 'L', 'R', 'L', 'R')\n",
      "('R', 'R', 'L', ' ', 'L', 'L', 'R', 'L', 'R')\n",
      "('R', ' ', 'L', 'R', 'L', 'L', 'R', 'L', 'R')\n",
      "(' ', 'R', 'L', 'R', 'L', 'L', 'R', 'L', 'R')\n",
      "('L', 'R', ' ', 'R', 'L', 'L', 'R', 'L', 'R')\n",
      "('L', 'R', 'L', 'R', ' ', 'L', 'R', 'L', 'R')\n",
      "('L', 'R', 'L', ' ', 'R', 'L', 'R', 'L', 'R')\n",
      "('L', ' ', 'L', 'R', 'R', 'L', 'R', 'L', 'R')\n",
      "('L', 'L', ' ', 'R', 'R', 'L', 'R', 'L', 'R')\n",
      "('L', 'L', 'R', ' ', 'R', 'L', 'R', 'L', 'R')\n",
      "('L', ' ', 'R', 'L', 'R', 'L', 'R', 'L', 'R')\n",
      "(' ', 'L', 'R', 'L', 'R', 'L', 'R', 'L', 'R')\n",
      "('R', 'L', ' ', 'L', 'R', 'L', 'R', 'L', 'R')\n",
      "('R', 'L', 'L', ' ', 'R', 'L', 'R', 'L', 'R')\n",
      "('R', 'L', 'L', 'L', 'R', ' ', 'R', 'L', 'R')\n",
      "('R', 'L', 'L', 'L', ' ', 'R', 'R', 'L', 'R')\n",
      "('R', 'L', ' ', 'L', 'L', 'R', 'R', 'L', 'R')\n",
      "('R', ' ', 'L', 'L', 'L', 'R', 'R', 'L', 'R')\n",
      "(' ', 'R', 'L', 'L', 'L', 'R', 'R', 'L', 'R')\n",
      "('L', 'R', ' ', 'L', 'L', 'R', 'R', 'L', 'R')\n",
      "('L', ' ', 'R', 'L', 'L', 'R', 'R', 'L', 'R')\n",
      "('L', 'L', 'R', ' ', 'L', 'R', 'R', 'L', 'R')\n",
      "('L', 'L', ' ', 'R', 'L', 'R', 'R', 'L', 'R')\n",
      "('L', 'L', 'L', 'R', ' ', 'R', 'R', 'L', 'R')\n",
      "('L', 'L', 'L', 'R', 'R', ' ', 'R', 'L', 'R')\n",
      "('L', 'L', 'L', 'R', 'R', 'L', 'R', ' ', 'R')\n",
      "('L', 'L', 'L', 'R', 'R', 'L', ' ', 'R', 'R')\n",
      "('L', 'L', 'L', 'R', ' ', 'L', 'R', 'R', 'R')\n",
      "('L', 'L', 'L', ' ', 'R', 'L', 'R', 'R', 'R')\n",
      "('L', 'L', 'L', 'L', 'R', ' ', 'R', 'R', 'R')\n",
      "('L', 'L', 'L', 'L', ' ', 'R', 'R', 'R', 'R')\n"
     ]
    }
   ],
   "source": [
    "bfs = breadthFirstSearch(camelStartState, camelGoalState, camelSuccessorsf)\n",
    "print('Breadth-first solution: (', len(bfs), 'steps)')\n",
    "for s in bfs:\n",
    "    print(s)\n",
    "\n",
    "dfs = depthFirstSearch(camelStartState, camelGoalState, camelSuccessorsf)\n",
    "print('Depth-first solution: (', len(dfs), 'steps)')\n",
    "for s in dfs:\n",
    "    print(s)"
   ]
  },
  {
   "cell_type": "code",
   "execution_count": 159,
   "metadata": {},
   "outputs": [
    {
     "name": "stdout",
     "output_type": "stream",
     "text": [
      "\n",
      "======================= Code Execution =======================\n",
      "\n",
      "Extracting python code from notebook named 'Gorbett-A1.ipynb' and storing in notebookcode.py\n",
      "Removing all statements that are not function or class defs or import statements.\n",
      "('Searching this graph:\\n', {'a': ['b'], 'c': ['e'], 'b': ['c', 'd'], 'e': ['g', 'h', 'i'], 'd': ['f', 'i']})\n",
      "\n",
      "Looking for path from a to b.\n",
      "  Calling breadthFirstSearch(a, b, successorsf)\n",
      "      and depthFirstSearch(a, b, successorsf)\n",
      "10/10 points. Your breadthFirstSearch found correct solution path of ['a', 'b']\n",
      "10/10 points. Your depthFirstSearch found correct solution path of ['a', 'b']\n",
      "\n",
      "Looking for path from a to i.\n",
      "  Calling breadthFirstSearch(a, i, successorsf)\n",
      "      and depthFirstSearch(a, i, successorsf)\n",
      "20/20 points. Your breadthFirstSearch found correct solution path of ['a', 'b', 'd', 'i']\n",
      "20/20 points. Your depthFirstSearch found correct solution path of ['a', 'b', 'c', 'e', 'i']\n",
      "\n",
      "Looking for non-existant path from a to denver.\n",
      "  Calling breadthFirstSearch(a, denver, successorsf)\n",
      "      and depthFirstSearch(a, denver, successorsf)\n",
      "10/10 points. Your breadthFirstSearch found correct solution path of Goal not found\n",
      "10/10 points. Your depthFirstSearch found correct solution path of Goal not found\n",
      "\n",
      "440 Execution Grade is 80/80\n",
      "\n",
      "======================= Description of Code and Results =======================\n",
      "\n",
      "Up to 20 more points will be given based on the qualty of your descriptions of the method and the results.\n"
     ]
    },
    {
     "data": {
      "text/plain": [
       "<Figure size 432x288 with 0 Axes>"
      ]
     },
     "metadata": {},
     "output_type": "display_data"
    }
   ],
   "source": [
    "%run -i A1grader.py"
   ]
  }
 ],
 "metadata": {
  "anaconda-cloud": {},
  "kernelspec": {
   "display_name": "Python 2",
   "language": "python",
   "name": "python2"
  },
  "language_info": {
   "codemirror_mode": {
    "name": "ipython",
    "version": 2
   },
   "file_extension": ".py",
   "mimetype": "text/x-python",
   "name": "python",
   "nbconvert_exporter": "python",
   "pygments_lexer": "ipython2",
   "version": "2.7.12"
  }
 },
 "nbformat": 4,
 "nbformat_minor": 1
}

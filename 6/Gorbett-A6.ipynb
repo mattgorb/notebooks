{
 "cells": [
  {
   "cell_type": "markdown",
   "metadata": {},
   "source": [
    "# Assignment 6: Min-Conflicts"
   ]
  },
  {
   "cell_type": "markdown",
   "metadata": {},
   "source": [
    "## Matt Gorbett"
   ]
  },
  {
   "cell_type": "markdown",
   "metadata": {},
   "source": [
    "The min-conflicts algorithm is a search method for solving constraint satisfaction problems.  Below I will attempt to explain the provided algorithm in english, because I think this will help me understand it more.  This is a fun algorithm, I immediately envisioned a project where I could generate sports schedules or some comparable application.  \n",
    "\n",
    "#### Attempting to explain the min_conflicts function and its calling functions \n",
    "\n",
    "For each computer science course, the function calls the min_conflicts_value function, which in turn calls the argmin_random_tie function.  The domain of the variable gets passed into argmin_random_tie, which is 3 classrooms * 8 times=24 total options for each course.  \n",
    "argmin_random_tie iterates through the domain of each course variable to determine which room/time combination has the least amount of conflicts.  To do this, it iterates through each room/time combo in the list and calls the nconflicts function.  The nconflicts function returns a 1 if the course/room/time combo has a conflict with another course/room/time combo in its domain list.  From here, it counts the number of 1's in the list and returns this value to argmin_random_tie.  argmin_random_tie keeps a variable of the lowest number of conflicts retrieved from nconflicts for each tuple in the list and sets the best tuple value based on its nconflicts value.  If there is a tie for lowest number of conflicts, it selects a random tuple value. From here, argmin_min_random_tie returns a tuple value to min_conflicts. \n",
    "After this, min_conflicts iterates through for max_steps and finds a list of variables in the solution dictionary that are conflicted.  It takes a random variable from the list of conflicted variables, finds the variables value that has the lowest number of conflicts, and sets a new value equal to the value with the lowest number of conflicts.  It does this until either max_steps are reached or it has a dictionary with no conflicts.  From here, it returns the solution and the number of steps it took.  "
   ]
  },
  {
   "cell_type": "markdown",
   "metadata": {},
   "source": [
    "## Function Notes"
   ]
  },
  {
   "cell_type": "markdown",
   "metadata": {},
   "source": [
    "#### assignments, steps = schedule(classes, times, rooms, max_steps)\n",
    "\n",
    "A big part of this assignment was setting up the data correctly to pass into the already defined min_conflicts function.  To do this, I first iterated through each of the 3 lists: classes times, and rooms.  In this nested for loop, I add each class to a dictionary as the key if it doesn't exist.  For the value, I add a tuple in the form (classroom, time).  When the course key already exists, I append another tuple to the value with the new classroom and time. So the end variable is a dictionary with courses as the keys with lists of tuples that have classrooms and times.  Next, I get the neighbors of each class.  The neighbors for each course are simply the other courses.   Finally, I return the min_conflicts function with its results to get a schedule with steps.  \n",
    "\n",
    "#### result = constraints_ok(class_name_1, value_1, class_name_2, value_2)\n",
    "This function compares two classes and their values.  First I check to make sure I'm not comparing two of the same classes and if I am I return false.  Next, I check whether the compared classes have the same time and same room, if they do return false.  Finally I compare the keys third index, which is the level of the course.  I get the third character in the key, and if the two are the same, and they have the same time, I will return false.  The one exception here is that I check if the classes are 163 and 164, and if they are I return true because this is ok.  \n",
    "     \n",
    "     \n",
    "#### display(assignments, rooms, times)\n",
    "This was a fun function to write.  The key for me was creating a pandas table and setting its columns to the classrooms and the index to the times.  From here, all I needed to do was iterate through the solution dictionary and find the tuple value in the pandas table using the pandas .loc[] method and setting the cell to the dictionary key (class).  I was happy with how simple this one turned out.  \n",
    "\n"
   ]
  },
  {
   "cell_type": "markdown",
   "metadata": {},
   "source": [
    "## min-conflicts given functions"
   ]
  },
  {
   "cell_type": "code",
   "execution_count": 153,
   "metadata": {},
   "outputs": [],
   "source": [
    "import sys\n",
    "import random\n",
    "\n",
    "def min_conflicts(vars, domains, constraints, neighbors, max_steps=1000): \n",
    "    \"\"\"Solve a CSP by stochastic hillclimbing on the number of conflicts.\"\"\"\n",
    "    # Generate a complete assignment for all vars (probably with conflicts)\n",
    "    current = {}\n",
    "    for var in vars:\n",
    "        val = min_conflicts_value(var, current, domains, constraints, neighbors)\n",
    "\n",
    "        current[var] = val\n",
    "    # Now repeatedly choose a random conflicted variable and change it\n",
    "\n",
    "    for i in range(max_steps):\n",
    "        conflicted = conflicted_vars(current,vars,constraints,neighbors)\n",
    "        if not conflicted:\n",
    "            return (current,i)\n",
    "        var = random.choice(conflicted)\n",
    "        val = min_conflicts_value(var, current, domains, constraints, neighbors)\n",
    "        current[var] = val\n",
    "    return (None,None)\n",
    "\n",
    "def min_conflicts_value(var, current, domains, constraints, neighbors):\n",
    "    \"\"\"Return the value that will give var the least number of conflicts.\n",
    "    If there is a tie, choose at random.\"\"\"\n",
    "    return argmin_random_tie(domains[var],\n",
    "                             lambda val: nconflicts(var, val, current, constraints, neighbors)) \n",
    "\n",
    "def conflicted_vars(current,vars,constraints,neighbors):\n",
    "    \"Return a list of variables in current assignment that are in conflict\"\n",
    "    return [var for var in vars\n",
    "            if nconflicts(var, current[var], current, constraints, neighbors) > 0]\n",
    "\n",
    "def nconflicts(var, val, assignment, constraints, neighbors):\n",
    "    \"Return the number of conflicts var=val has with other variables.\"\n",
    "    # Subclasses may implement this more efficiently\n",
    "    def conflict(var2):\n",
    "        val2 = assignment.get(var2, None)\n",
    "        \n",
    "        return val2 != None and not constraints(var, val, var2, val2)\n",
    "    return len(list(filter(conflict, neighbors[var])))\n",
    "\n",
    "def argmin_random_tie(seq, fn):\n",
    "    \"\"\"Return an element with lowest fn(seq[i]) score; break ties at random.\n",
    "    Thus, for all s,f: argmin_random_tie(s, f) in argmin_list(s, f)\"\"\"\n",
    "    best_score = fn(seq[0]); n = 0\n",
    "    for x in seq:\n",
    "        x_score = fn(x)\n",
    "        if x_score < best_score:\n",
    "            best, best_score = x, x_score; n = 1\n",
    "        elif x_score == best_score:\n",
    "            n += 1\n",
    "            if random.randrange(n) == 0:\n",
    "                    best = x\n",
    "    return best"
   ]
  },
  {
   "cell_type": "markdown",
   "metadata": {},
   "source": [
    "# My functions"
   ]
  },
  {
   "cell_type": "code",
   "execution_count": 154,
   "metadata": {},
   "outputs": [
    {
     "name": "stdout",
     "output_type": "stream",
     "text": [
      "      CSB 130 CSB 325 CSB 425\n",
      "9 am    CS540   CS414   CS314\n",
      "10 am   CS514   CS453   CS163\n",
      "11 am   CS464   CS160   CS545\n",
      "12 pm   CS410   CS253   CS510\n",
      "1 pm    CS320   CS440        \n",
      "2 pm    CS270   CS420   CS370\n",
      "3 pm    CS430   CS535   CS164\n",
      "4 pm    CS356   CS220   CS445\n",
      "\n",
      "\n",
      "\n",
      "EXTRA CREDIT\n",
      "Preferences met: 17\n",
      "      CSB 130 CSB 325 CSB 425\n",
      "9 am    CS320   CS414   CS535\n",
      "10 am   CS430   CS545   CS220\n",
      "11 am   CS440   CS314   CS510\n",
      "12 pm   CS370           CS420\n",
      "1 pm    CS163   CS270   CS464\n",
      "2 pm    CS540   CS164   CS410\n",
      "3 pm    CS160   CS453   CS356\n",
      "4 pm    CS445   CS253   CS514\n"
     ]
    }
   ],
   "source": [
    "\n",
    "\n",
    "times = ['9 am','10 am','11 am','12 pm','1 pm','2 pm','3 pm','4 pm']\n",
    "classrooms = ['CSB 130','CSB 325','CSB 425']\n",
    "classes=['CS160', 'CS163', 'CS164',\n",
    "'CS220', 'CS270', 'CS253',\n",
    "'CS320', 'CS314', 'CS356', 'CS370',\n",
    "'CS410', 'CS414', 'CS420', 'CS430', 'CS440', 'CS445', 'CS453', 'CS464',\n",
    "'CS510', 'CS514', 'CS535', 'CS540', 'CS545']\n",
    "\n",
    "#classes_dict = {var: [(time for time in times,room for room in classrooms)] for var in classes}\n",
    "\n",
    "\n",
    "def constraints_ok(key, val, key2, val2):\n",
    "    if(key==key2):\n",
    "        return False\n",
    "    if(val[0]==val2[0] and val[1]==val2[1]):\n",
    "        return False\n",
    "    if(key[2]==key2[2] and val[1]==val2[1] ):\n",
    "        if((key=='CS163' and  key2=='CS164') or (key=='CS164' and  key2=='CS163')):\n",
    "            return True\n",
    "        else:\n",
    "            return False    \n",
    "\n",
    "    return True\n",
    "\n",
    "def display(solution,rooms, times):\n",
    "    dis=pd.DataFrame(columns = rooms, index=[i for i in times],data='')\n",
    "    for key, value in solution.items():\n",
    "        dis.loc[value[1], value[0]]=key\n",
    "    return dis\n",
    "\n",
    "def schedule(classes, times, classrooms, max_steps):\n",
    "    classes_domain={}\n",
    "    for time in times:\n",
    "        for room in classrooms:\n",
    "            for c in classes:\n",
    "                if c not in classes_domain:\n",
    "                    classes_domain[c]=[(room,time)]\n",
    "                else:\n",
    "                    classes_domain[c].append((room,time))\n",
    "\n",
    "    neighbors={}\n",
    "    for key, value in classes_domain.items():\n",
    "        neighbors[key]=[c for c in classes if c!=key]\n",
    "\n",
    "    vars=classes\n",
    "    return min_conflicts(vars, classes_domain, constraints_ok, neighbors,max_steps)\n",
    "    \n",
    "\n",
    "\n",
    "\n",
    "#Testing schedule function\n",
    "assignments, steps = schedule(classes, times, classrooms, 100)\n",
    "print(display(assignments, classrooms, times))\n",
    "\n",
    "\n",
    "def extra_credit(classes, times, classrooms, maxsteps):\n",
    "    high=0\n",
    "    for i in range(maxsteps):\n",
    "        assignments, steps =schedule(classes, times, classrooms, 100)\n",
    "        preference_count=0\n",
    "\n",
    "        for key, value in assignments.items():\n",
    "            if(value[1] not in ('9 am', '12 pm', '4 pm')):\n",
    "               preference_count+=1\n",
    "            if(key in ('CS163','CS164')and value[1] in ('1 pm','2 pm')):\n",
    "               preference_count+=1\n",
    "\n",
    "        if(preference_count>high):\n",
    "               high=preference_count\n",
    "\n",
    "               preferred_schedule=assignments\n",
    "\n",
    "    return preferred_schedule,high\n",
    "            \n",
    "print(\"\\n\\n\\nEXTRA CREDIT\")\n",
    "solution, high=extra_credit(classes, times, classrooms, 1000)    \n",
    "print(\"Preferences met: \"+str(high))\n",
    "display=display(solution, classrooms, times)\n",
    "print(display)\n"
   ]
  },
  {
   "cell_type": "markdown",
   "metadata": {},
   "source": [
    "## Check-in"
   ]
  },
  {
   "cell_type": "markdown",
   "metadata": {},
   "source": [
    "Do not include this section in your notebook.\n",
    "\n",
    "Name your notebook ```Lastname-A6.ipynb```.  So, for me it would be ```Anderson-A6.ipynb```.  Submit the file using the ```Assignment 6``` link on [Canvas](https://colostate.instructure.com/courses/68135)."
   ]
  },
  {
   "cell_type": "markdown",
   "metadata": {},
   "source": [
    "## Grading\n",
    "\n",
    "Download [A6grader.tar](http://www.cs.colostate.edu/~anderson/cs440/notebooks/A6grader.tar) and extract `A6grader.py` from it.  Grader will be available soon."
   ]
  },
  {
   "cell_type": "code",
   "execution_count": 155,
   "metadata": {
    "scrolled": false
   },
   "outputs": [
    {
     "name": "stdout",
     "output_type": "stream",
     "text": [
      "\n",
      "======================= Code Execution =======================\n",
      "\n",
      "Extracting python code from notebook named 'Gorbett-A6.ipynb' and storing in notebookcode.py\n",
      "Removing all statements that are not function or class defs or import statements.\n",
      "\n",
      "Testing constraints_ok('CS410', ('CSB 130', ' 9 am'), 'CS510', ('CSB 130', ' 9 am'))\n",
      "\n",
      "--- 10/10 points. Your constraints_ok function correctly returned False\n",
      "\n",
      "Testing constraints_ok('CS410', ('CSB 130', ' 9 am'), 'CS510', ('CSB 130', '10 am'))\n",
      "\n",
      "--- 10/10 points. Your constraints_ok function correctly returned True\n",
      "\n",
      "Testing constraints_ok('CS410', ('CSB 130', '10 am'), 'CS430', ('CSB 425', '10 am')\n",
      "\n",
      "--- 10/10 points. Your constraints_ok function correctly returned False\n",
      "\n",
      "Testing  result, nsteps = schedule(classes, times, rooms, 100)\n",
      "\n",
      "--- 30/30 points. Your schedule function returned a valid schedule.\n",
      "\n",
      "Testing  call to schedule again with two more classes.\n",
      "\n",
      "--- 30/30 points. Your schedule function correctly returned None.\n",
      "\n",
      "6 Execution grade is 90 / 90\n",
      "\n",
      "---   / 10 points for result of your display function.\n",
      "\n",
      "6 FINAL GRADE is   / 100\n",
      "\n",
      "6 EXTRA CREDIT grade is  / 1\n"
     ]
    }
   ],
   "source": [
    "%run -i A6grader.py"
   ]
  },
  {
   "cell_type": "markdown",
   "metadata": {},
   "source": [
    "# Extra Credit\n",
    "\n",
    "Solve the scheduling problem again but with the addition of\n",
    "these preferences:\n",
    "\n",
    "  * prefer schedules that do not schedule classes at 9 am, 12 pm or 4 pm.\n",
    "  * prefer schedules with CS163 and CS164 meeting at 1 pm or 2 pm.\n",
    "  \n",
    "\n",
    "## My solution:\n",
    "* My solution is above the grader, in my main chunk of code.  \n",
    "To do this, I called schedule 1000 times and counted how many of the preferences have been met.  Logically, the ideal scenario is obvious.  Since there are 23 classes and only 24 slots, all but one slot will be taken up.  This means that ideally 8/9 slots that cover 9,12,and 4 pm will have to be taken, with one slot open.  \n",
    "\n",
    "Additioally, the ideal schedule will have both CS163 and CS164 scheduled at either 1 or 2 pm.  This has been reflected in my solution, with 17 preferences met.  \n",
    "17 preferences explanation:\n",
    "It is preferred that classes meet at 10, 11, 1, 2, or 3.  This means that ideally all these slots will be full.  5*3 classrooms=15 preferences.  \n",
    "Cs 163 at 1 or 2=1 preference\n",
    "Cs 164 at 1 or 2=1 preference\n",
    "15+1+1=17 preferences fulfilled.  "
   ]
  }
 ],
 "metadata": {
  "anaconda-cloud": {},
  "kernelspec": {
   "display_name": "Python 3",
   "language": "python",
   "name": "python3"
  },
  "language_info": {
   "codemirror_mode": {
    "name": "ipython",
    "version": 3
   },
   "file_extension": ".py",
   "mimetype": "text/x-python",
   "name": "python",
   "nbconvert_exporter": "python",
   "pygments_lexer": "ipython3",
   "version": "3.6.5"
  },
  "toc": {
   "nav_menu": {},
   "number_sections": true,
   "sideBar": true,
   "skip_h1_title": false,
   "toc_cell": false,
   "toc_position": {},
   "toc_section_display": "block",
   "toc_window_display": false
  }
 },
 "nbformat": 4,
 "nbformat_minor": 1
}
